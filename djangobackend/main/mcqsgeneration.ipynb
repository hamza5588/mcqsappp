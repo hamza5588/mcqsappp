{
 "cells": [
  {
   "cell_type": "code",
   "execution_count": 1,
   "metadata": {},
   "outputs": [],
   "source": [
    "from langchain_core.prompts import ChatPromptTemplate\n",
    "from langchain_openai import ChatOpenAI\n",
    "from langchain_core.output_parsers import StrOutputParser"
   ]
  },
  {
   "cell_type": "code",
   "execution_count": 7,
   "metadata": {},
   "outputs": [],
   "source": [
    "apikey=\"sk-proj-WIqONjmhJjlNkeImihiWT3BlbkFJ0za2BbqjSwoZl6PyO7Bk\"\n",
    "\n",
    "prompt=\"\"\" Please generate a set of multiple-choice questions (MCQs) with four options each. After generating the questions, provide the output in a dictionary format where each question, its options, and the correct answer can be easily extracted. The dictionary should be structured as follows:\n",
    "\n",
    "{\n",
    "  \"question_1\": {\n",
    "    \"question\": \"Your question text here?\",\n",
    "    \"options\": {\n",
    "      \"A\": \"Option A text\",\n",
    "      \"B\": \"Option B text\",\n",
    "      \"C\": \"Option C text\",\n",
    "      \"D\": \"Option D text\"\n",
    "    },\n",
    "    \"correct_answer\": \"The correct option letter\"\n",
    "  },\n",
    "  \"question_2\": {\n",
    "    \"question\": \"Your question text here?\",\n",
    "    \"options\": {\n",
    "      \"A\": \"Option A text\",\n",
    "      \"B\": \"Option B text\",\n",
    "      \"C\": \"Option C text\",\n",
    "      \"D\": \"Option D text\"\n",
    "    },\n",
    "    \"correct_answer\": \"The correct option letter\"\n",
    "  },\n",
    "  ...\n",
    "}\n",
    "\"\"\""
   ]
  },
  {
   "cell_type": "code",
   "execution_count": 8,
   "metadata": {},
   "outputs": [],
   "source": [
    "model = ChatOpenAI(openai_api_key=apikey,model='gpt-4')"
   ]
  },
  {
   "cell_type": "code",
   "execution_count": 9,
   "metadata": {},
   "outputs": [],
   "source": [
    "from langchain.llms import GooglePalm\n",
    "from langchain import PromptTemplate\n",
    "from langchain.chains import LLMChain, SequentialChain\n",
    "from langchain import HuggingFaceHub\n",
    "from dotenv import load_dotenv\n",
    "import os\n",
    "import pdfkit\n",
    "from django.http import FileResponse\n",
    "from reportlab.lib.pagesizes import letter\n",
    "from reportlab.pdfgen import canvas\n",
    "import base64\n",
    "from langchain.document_loaders import PyPDFLoader\n",
    "\n",
    "import io\n",
    "import re\n",
    "from PyPDF2 import PdfReader\n",
    "\n",
    "from django.http import JsonResponse\n",
    "from django.shortcuts import render\n",
    "from django.views.decorators.csrf import csrf_exempt\n",
    "import json"
   ]
  },
  {
   "cell_type": "code",
   "execution_count": 10,
   "metadata": {},
   "outputs": [],
   "source": [
    "prompt=\"\"\" Please generate a set of multiple-choice questions (MCQs) with four options each. After generating the questions, provide the output in a dictionary format where each question, its options, and the correct answer can be easily extracted. The dictionary should be structured as follows:\n",
    "\n",
    "{\n",
    "  \"question_1\": {\n",
    "    \"question\": \"Your question text here?\",\n",
    "    \"options\": {\n",
    "      \"A\": \"Option A text\",\n",
    "      \"B\": \"Option B text\",\n",
    "      \"C\": \"Option C text\",\n",
    "      \"D\": \"Option D text\"\n",
    "    },\n",
    "    \"correct_answer\": \"The correct option letter\"\n",
    "  },\n",
    "  \"question_2\": {\n",
    "    \"question\": \"Your question text here?\",\n",
    "    \"options\": {\n",
    "      \"A\": \"Option A text\",\n",
    "      \"B\": \"Option B text\",\n",
    "      \"C\": \"Option C text\",\n",
    "      \"D\": \"Option D text\"\n",
    "    },\n",
    "    \"correct_answer\": \"The correct option letter\"\n",
    "  },\n",
    "  ...\n",
    "}\n",
    "{context}\n",
    "\"\"\""
   ]
  },
  {
   "cell_type": "code",
   "execution_count": 11,
   "metadata": {},
   "outputs": [],
   "source": [
    "from langchain.prompts import PromptTemplate\n",
    "from langchain.llms import OpenAI\n",
    "from langchain.chains import LLMChain\n",
    "from langchain.output_parsers import OutputFixingParser\n",
    "\n",
    "# Define the prompt template\n",
    "prompt_template = PromptTemplate(\n",
    "    input_variables=[\"context\", \"subject\", \"sub_topic\", \"num_questions\", \"difficulty_level\", \"language\", \"type\"],\n",
    "    template=\"\"\"\n",
    "    Please generate a set of questions based on the following criteria:\n",
    "    \n",
    "    - **Subject**: {subject}\n",
    "    - **Sub-Topic**: {sub_topic}\n",
    "    - **Number of Questions**: {num_questions}\n",
    "    - **Difficulty Level**: {difficulty_level}\n",
    "    - **Language**: {language}\n",
    "    - **Type**: {type}\n",
    "\n",
    "    {context}\n",
    "\n",
    "    ### Instructions:\n",
    "\n",
    "    Depending on the type specified, create the questions in the appropriate format:\n",
    "    \n",
    "    - **MCQs**: Provide multiple-choice questions with four options each.\n",
    "    - **Question-Answer**: Provide a list of questions with detailed answers.\n",
    "    - **Fill in the Blanks**: Provide sentences with missing words, indicated by underscores.\n",
    "     **Matching**: Provide pairs of items to be matched with each other, similar to this example:\n",
    "      - **Terms**: [\"Verbs\", \"Pronouns\", \"Adjectives\", \"Nouns\"]\n",
    "      - **Definitions**: [\n",
    "          \"Words that express actions or states of being\",\n",
    "          \"Words that replace nouns\",\n",
    "          \"Words that describe or modify nouns\",\n",
    "          \"Words that show relationships between nouns and other words\"\n",
    "        ]\n",
    "    - **Mix**: Create a mixture of the above types, ensuring a variety of question formats.\n",
    "\n",
    "    ### Output Format:\n",
    "\n",
    "    For MCQs:\n",
    "    ```\n",
    "    {{\n",
    "      \"question_1\": {{\n",
    "        \"question\": \"Your question text here?\",\n",
    "        \"options\": {{\n",
    "          \"A\": \"Option A text\",\n",
    "          \"B\": \"Option B text\",\n",
    "          \"C\": \"Option C text\",\n",
    "          \"D\": \"Option D text\"\n",
    "        }},\n",
    "        \"correct_answer\": \"The correct option letter\"\n",
    "      }},\n",
    "      ...\n",
    "    }}\n",
    "    ```\n",
    "\n",
    "    For Question-Answer:\n",
    "    ```\n",
    "    {{\n",
    "      \"question_1\": {{\n",
    "        \"question\": \"Your question text here?\",\n",
    "        \"answer\": \"Your answer text here\"\n",
    "      }},\n",
    "      ...\n",
    "    }}\n",
    "    ```\n",
    "\n",
    "    For Fill in the Blanks:\n",
    "    ```\n",
    "    {{\n",
    "      \"question_1\": {{\n",
    "        \"sentence\": \"The quick ___ fox jumps over the lazy dog.\",\n",
    "        \"answer\": \"brown\"\n",
    "      }},\n",
    "      ...\n",
    "    }}\n",
    "    ```\n",
    "\n",
    "     For Matching:\n",
    "    ```\n",
    "    {{\n",
    "      \"question_1\": {{\n",
    "        \"question defination,\n",
    "        \"definitions\": [\"Definition 1\", \"Definition 2\", ...],\n",
    "        \"correct_pairs\": {{\n",
    "          \"Term 1\": \"[Definition 1,Defination2]\",\n",
    "          ...\n",
    "        }}\n",
    "      }},\n",
    "      ...\n",
    "    }}\n",
    "\n",
    "    For Mix:\n",
    "    ```\n",
    "    // A combination of the formats above\n",
    "    ```\n",
    "\n",
    "    Please generate the questions accordingly and output them in JSON format.\n",
    "    \"\"\"\n",
    ")"
   ]
  },
  {
   "cell_type": "code",
   "execution_count": 12,
   "metadata": {},
   "outputs": [],
   "source": [
    "from langchain_core.output_parsers.json import JsonOutputParser"
   ]
  },
  {
   "cell_type": "code",
   "execution_count": 13,
   "metadata": {},
   "outputs": [],
   "source": [
    "json_parser = JsonOutputParser()"
   ]
  },
  {
   "cell_type": "code",
   "execution_count": 18,
   "metadata": {},
   "outputs": [],
   "source": [
    "# Initialize the LLM\n",
    "llm = ChatOpenAI(openai_api_key=apikey,model='gpt-4')\n",
    "\n",
    "# Define the expected JSON structure for parsing\n",
    "json_parser = JsonOutputParser()\n",
    "\n",
    "# Define the output fixing parser with JSON parser and LLM\n",
    "output_parser = OutputFixingParser.from_llm(parser=json_parser, llm=llm)\n",
    "\n",
    "mcq_chain = LLMChain(\n",
    "    prompt=prompt_template,\n",
    "    llm=llm,\n",
    "    output_parser=output_parser\n",
    ")\n",
    "\n",
    "# Example parameters for generating questions\n",
    "context = \"\"\"\n",
    "Create questions about basic Python programming concepts.\n",
    "\"\"\"\n",
    "subject = \"grammer\"\n",
    "sub_topic = \"part of speech\"\n",
    "num_questions = 5\n",
    "difficulty_level = \"Easy\"\n",
    "language = \"English\"\n",
    "type = \"fill in the blanks\"  # Can be MCQs, Question-Answer, Fill in the Blanks, Matching, or Mix\n",
    "\n",
    "# Run the chain with the specified parameters\n",
    "result = mcq_chain.run({\n",
    "    \"context\": context,\n",
    "    \"subject\": subject,\n",
    "    \"sub_topic\": sub_topic,\n",
    "    \"num_questions\": num_questions,\n",
    "    \"difficulty_level\": difficulty_level,\n",
    "    \"language\": language,\n",
    "    \"type\": type\n",
    "})\n"
   ]
  },
  {
   "cell_type": "code",
   "execution_count": 19,
   "metadata": {},
   "outputs": [
    {
     "data": {
      "text/plain": [
       "{'question_1': {'sentence': 'The ___ is a part of speech that modifies a verb, adjective, or other adverb.',\n",
       "  'answer': 'adverb'},\n",
       " 'question_2': {'sentence': 'The ___ is a part of speech that represents a person, place, thing, or idea.',\n",
       "  'answer': 'noun'},\n",
       " 'question_3': {'sentence': 'The ___ is a part of speech that replaces a noun in a sentence.',\n",
       "  'answer': 'pronoun'},\n",
       " 'question_4': {'sentence': 'The ___ is a part of speech that describes or modifies a noun.',\n",
       "  'answer': 'adjective'},\n",
       " 'question_5': {'sentence': 'The ___ is a part of speech that expresses an action or a state of being.',\n",
       "  'answer': 'verb'}}"
      ]
     },
     "execution_count": 19,
     "metadata": {},
     "output_type": "execute_result"
    }
   ],
   "source": [
    "result"
   ]
  },
  {
   "cell_type": "code",
   "execution_count": 12,
   "metadata": {},
   "outputs": [
    {
     "name": "stdout",
     "output_type": "stream",
     "text": [
      "question_1 ............ {'question': 'What is the output of the following Python code: print(type(1.0))?', 'options': {'A': \"<class 'int'>\", 'B': \"<class 'str'>\", 'C': \"<class 'float'>\", 'D': \"<class 'bool'>\"}, 'correct_answer': 'C'}\n",
      "question_2 ............ {'question': \"What is the correct syntax to output 'Hello World' in Python?\", 'options': {'A': \"echo('Hello World')\", 'B': \"print('Hello World')\", 'C': \"output('Hello World')\", 'D': \"show('Hello World')\"}, 'correct_answer': 'B'}\n",
      "question_3 ............ {'question': 'What will be the output of the following Python code: print(3 * 2 * 1)', 'options': {'A': '2', 'B': '6', 'C': '9', 'D': '1'}, 'correct_answer': 'B'}\n",
      "question_4 ............ {'question': 'Which of the following is not a valid Python variable name?', 'options': {'A': '_myvar', 'B': 'my_var', 'C': '2myvar', 'D': 'myVar'}, 'correct_answer': 'C'}\n",
      "question_5 ............ {'question': 'What is the keyword to define a function in Python?', 'options': {'A': 'function', 'B': 'def', 'C': 'func', 'D': 'define'}, 'correct_answer': 'B'}\n"
     ]
    }
   ],
   "source": [
    "for i,j in result.items():\n",
    "    print(i,\"............\",j)"
   ]
  },
  {
   "cell_type": "code",
   "execution_count": null,
   "metadata": {},
   "outputs": [],
   "source": [
    "# Print the JSON output\n",
    "try:\n",
    "    output = json.loads(result)\n",
    "    print(json.dumps(output, indent=2))\n",
    "except json.JSONDecodeError as e:\n",
    "    print(\"Error decoding JSON:\", e)\n",
    "    print(\"Raw output:\", result)\n"
   ]
  },
  {
   "cell_type": "code",
   "execution_count": 28,
   "metadata": {},
   "outputs": [
    {
     "data": {
      "text/plain": [
       "{'question_1': {'question': 'What is the output of the following Python code: print(type([]))?',\n",
       "  'options': {'A': \"<class 'list'>\",\n",
       "   'B': \"<class 'str'>\",\n",
       "   'C': \"<class 'int'>\",\n",
       "   'D': \"<class 'float'>\"},\n",
       "  'correct_answer': 'A'},\n",
       " 'question_2': {'question': 'What is the correct way to comment a line in Python?',\n",
       "  'options': {'A': '// This is a comment',\n",
       "   'B': '/* This is a comment */',\n",
       "   'C': '# This is a comment',\n",
       "   'D': '-- This is a comment'},\n",
       "  'correct_answer': 'C'},\n",
       " 'question_3': {'question': \"What is the output of the following Python code: print('Python'[::-1])?\",\n",
       "  'options': {'A': 'Python', 'B': 'nohtyP', 'C': 'nohtyp', 'D': 'No output'},\n",
       "  'correct_answer': 'B'},\n",
       " 'question_4': {'question': 'What is the correct syntax to initialize a list in Python?',\n",
       "  'options': {'A': 'list[] = {}',\n",
       "   'B': 'list = []',\n",
       "   'C': 'list{} = []',\n",
       "   'D': 'list() = []'},\n",
       "  'correct_answer': 'B'},\n",
       " 'question_5': {'question': 'Which operator is used for exponentiation in Python?',\n",
       "  'options': {'A': '^', 'B': '**', 'C': '^^', 'D': '%%'},\n",
       "  'correct_answer': 'B'}}"
      ]
     },
     "execution_count": 28,
     "metadata": {},
     "output_type": "execute_result"
    }
   ],
   "source": [
    "result"
   ]
  },
  {
   "cell_type": "code",
   "execution_count": 30,
   "metadata": {},
   "outputs": [
    {
     "name": "stdout",
     "output_type": "stream",
     "text": [
      "question_1: What is the output of the following Python code: print(type([]))?\n",
      "  A: <class 'list'>\n",
      "  B: <class 'str'>\n",
      "  C: <class 'int'>\n",
      "  D: <class 'float'>\n",
      "  Correct Answer: A\n",
      "\n",
      "question_2: What is the correct way to comment a line in Python?\n",
      "  A: // This is a comment\n",
      "  B: /* This is a comment */\n",
      "  C: # This is a comment\n",
      "  D: -- This is a comment\n",
      "  Correct Answer: C\n",
      "\n",
      "question_3: What is the output of the following Python code: print('Python'[::-1])?\n",
      "  A: Python\n",
      "  B: nohtyP\n",
      "  C: nohtyp\n",
      "  D: No output\n",
      "  Correct Answer: B\n",
      "\n",
      "question_4: What is the correct syntax to initialize a list in Python?\n",
      "  A: list[] = {}\n",
      "  B: list = []\n",
      "  C: list{} = []\n",
      "  D: list() = []\n",
      "  Correct Answer: B\n",
      "\n",
      "question_5: Which operator is used for exponentiation in Python?\n",
      "  A: ^\n",
      "  B: **\n",
      "  C: ^^\n",
      "  D: %%\n",
      "  Correct Answer: B\n",
      "\n"
     ]
    }
   ],
   "source": [
    "for question_id, question_details in result.items():\n",
    "    question_text = question_details['question']\n",
    "    options = question_details['options']\n",
    "    correct_answer = question_details['correct_answer']\n",
    "    \n",
    "    # Print the extracted information\n",
    "    print(f\"{question_id}: {question_text}\")\n",
    "    for option_key, option_text in options.items():\n",
    "        print(f\"  {option_key}: {option_text}\")\n",
    "    print(f\"  Correct Answer: {correct_answer}\\n\")"
   ]
  },
  {
   "cell_type": "code",
   "execution_count": 10,
   "metadata": {},
   "outputs": [],
   "source": [
    "\n",
    "text=\"please generate 12 mcqs on english\""
   ]
  },
  {
   "cell_type": "code",
   "execution_count": 12,
   "metadata": {},
   "outputs": [
    {
     "data": {
      "text/plain": [
       "AIMessage(content='{\\n  \"question_1\": {\\n    \"question\": \"What is the past tense of \\'run\\'?\",\\n    \"options\": {\\n      \"A\": \"Ran\",\\n      \"B\": \"Runned\",\\n      \"C\": \"Running\",\\n      \"D\": \"Runner\"\\n    },\\n    \"correct_answer\": \"A\"\\n  },\\n  \"question_2\": {\\n    \"question\": \"What is a synonym for \\'happy\\'?\",\\n    \"options\": {\\n      \"A\": \"Sad\",\\n      \"B\": \"Angry\",\\n      \"C\": \"Joyful\",\\n      \"D\": \"Bored\"\\n    },\\n    \"correct_answer\": \"C\"\\n  },\\n  \"question_3\": {\\n    \"question\": \"What is the plural of \\'mouse\\'?\",\\n    \"options\": {\\n      \"A\": \"Mouse\",\\n      \"B\": \"Mouses\",\\n      \"C\": \"Mice\",\\n      \"D\": \"Mousees\"\\n    },\\n    \"correct_answer\": \"C\"\\n  },\\n  \"question_4\": {\\n    \"question\": \"Which one of these is an example of an adverb?\",\\n    \"options\": {\\n      \"A\": \"Quickly\",\\n      \"B\": \"Run\",\\n      \"C\": \"Dog\",\\n      \"D\": \"Blue\"\\n    },\\n    \"correct_answer\": \"A\"\\n  },\\n  \"question_5\": {\\n    \"question\": \"What is the correct form of \\'be\\' in present continuous tense?\",\\n    \"options\": {\\n      \"A\": \"Is\",\\n      \"B\": \"Am\",\\n      \"C\": \"Are\",\\n      \"D\": \"All of the above\"\\n    },\\n    \"correct_answer\": \"D\"\\n  },\\n  \"question_6\": {\\n    \"question\": \"Which of the following words is an example of a conjunction?\",\\n    \"options\": {\\n      \"A\": \"And\",\\n      \"B\": \"Quickly\",\\n      \"C\": \"Run\",\\n      \"D\": \"Blue\"\\n    },\\n    \"correct_answer\": \"A\"\\n  },\\n  \"question_7\": {\\n    \"question\": \"What is the superlative form of \\'good\\'?\",\\n    \"options\": {\\n      \"A\": \"Gooder\",\\n      \"B\": \"Best\",\\n      \"C\": \"Better\",\\n      \"D\": \"Goodest\"\\n    },\\n    \"correct_answer\": \"B\"\\n  },\\n  \"question_8\": {\\n    \"question\": \"Which punctuation mark is used to separate items in a list?\",\\n    \"options\": {\\n      \"A\": \"Period\",\\n      \"B\": \"Comma\",\\n      \"C\": \"Exclamation Mark\",\\n      \"D\": \"Question Mark\"\\n    },\\n    \"correct_answer\": \"B\"\\n  },\\n  \"question_9\": {\\n    \"question\": \"Which of the following sentences is written in the passive voice?\",\\n    \"options\": {\\n      \"A\": \"The dog chased the cat.\",\\n      \"B\": \"I am reading a book.\",\\n      \"C\": \"The cat was chased by the dog.\",\\n      \"D\": \"She is singing a song.\"\\n    },\\n    \"correct_answer\": \"C\"\\n  },\\n  \"question_10\": {\\n    \"question\": \"What type of word is \\'under\\' in the sentence \\'The cat is under the table\\'?\",\\n    \"options\": {\\n      \"A\": \"Noun\",\\n      \"B\": \"Verb\",\\n      \"C\": \"Adjective\",\\n      \"D\": \"Preposition\"\\n    },\\n    \"correct_answer\": \"D\"\\n  },\\n  \"question_11\": {\\n    \"question\": \"What is the correct possessive pronoun in the sentence \\'This book is _____\\'?\",\\n    \"options\": {\\n      \"A\": \"Yours\",\\n      \"B\": \"Your\",\\n      \"C\": \"You\\'re\",\\n      \"D\": \"You\"\\n    },\\n    \"correct_answer\": \"A\"\\n  },\\n  \"question_12\": {\\n    \"question\": \"In the sentence \\'She is taller than I\\', what part of speech is \\'taller\\'?\",\\n    \"options\": {\\n      \"A\": \"Noun\",\\n      \"B\": \"Adjective\",\\n      \"C\": \"Adverb\",\\n      \"D\": \"Verb\"\\n    },\\n    \"correct_answer\": \"B\"\\n  }\\n}', response_metadata={'token_usage': {'completion_tokens': 891, 'prompt_tokens': 222, 'total_tokens': 1113}, 'model_name': 'gpt-4-0613', 'system_fingerprint': None, 'finish_reason': 'stop', 'logprobs': None}, id='run-1247875b-e62f-4b62-87b7-8e0f6aeb2720-0', usage_metadata={'input_tokens': 222, 'output_tokens': 891, 'total_tokens': 1113})"
      ]
     },
     "execution_count": 12,
     "metadata": {},
     "output_type": "execute_result"
    }
   ],
   "source": [
    "model.invoke(f\"{prompt}{text}\")"
   ]
  },
  {
   "cell_type": "code",
   "execution_count": 6,
   "metadata": {},
   "outputs": [],
   "source": [
    "from langchain.prompts import PromptTemplate\n",
    "from langchain.chains import LLMChain\n",
    "prompt=prompt\n",
    "\n",
    "quiz_generation_prompt = PromptTemplate(\n",
    "    input_variables=[\"context\"],\n",
    "    template=prompt\n",
    ")"
   ]
  },
  {
   "cell_type": "code",
   "execution_count": 12,
   "metadata": {},
   "outputs": [
    {
     "name": "stderr",
     "output_type": "stream",
     "text": [
      "C:\\Users\\PMLS\\AppData\\Roaming\\Python\\Python311\\site-packages\\langchain_core\\_api\\deprecation.py:139: LangChainDeprecationWarning: The class `LLMChain` was deprecated in LangChain 0.1.17 and will be removed in 0.3.0. Use RunnableSequence, e.g., `prompt | llm` instead.\n",
      "  warn_deprecated(\n"
     ]
    }
   ],
   "source": [
    "mcqschain = LLMChain(llm=model, prompt=quiz_generation_prompt)"
   ]
  },
  {
   "cell_type": "code",
   "execution_count": 13,
   "metadata": {},
   "outputs": [
    {
     "ename": "ValueError",
     "evalue": "Missing some input keys: {'\\n  \"question_1\"'}",
     "output_type": "error",
     "traceback": [
      "\u001b[1;31m---------------------------------------------------------------------------\u001b[0m",
      "\u001b[1;31mValueError\u001b[0m                                Traceback (most recent call last)",
      "Cell \u001b[1;32mIn[13], line 2\u001b[0m\n\u001b[0;32m      1\u001b[0m context_input \u001b[38;5;241m=\u001b[39m \u001b[38;5;124m\"\u001b[39m\u001b[38;5;124mplease create the 10 mcqs on english.\u001b[39m\u001b[38;5;124m\"\u001b[39m\n\u001b[1;32m----> 2\u001b[0m result \u001b[38;5;241m=\u001b[39m \u001b[43mmcqschain\u001b[49m\u001b[38;5;241;43m.\u001b[39;49m\u001b[43minvoke\u001b[49m\u001b[43m(\u001b[49m\u001b[43m{\u001b[49m\u001b[38;5;124;43m\"\u001b[39;49m\u001b[38;5;124;43mcontext\u001b[39;49m\u001b[38;5;124;43m\"\u001b[39;49m\u001b[43m:\u001b[49m\u001b[43m \u001b[49m\u001b[43mcontext_input\u001b[49m\u001b[43m}\u001b[49m\u001b[43m)\u001b[49m\n\u001b[0;32m      4\u001b[0m \u001b[38;5;66;03m# Example output handling\u001b[39;00m\n\u001b[0;32m      5\u001b[0m quiz_data \u001b[38;5;241m=\u001b[39m result[\u001b[38;5;124m\"\u001b[39m\u001b[38;5;124mtext\u001b[39m\u001b[38;5;124m\"\u001b[39m]  \u001b[38;5;66;03m# Adjust based on actual output format\u001b[39;00m\n",
      "File \u001b[1;32m~\\AppData\\Roaming\\Python\\Python311\\site-packages\\langchain\\chains\\base.py:166\u001b[0m, in \u001b[0;36mChain.invoke\u001b[1;34m(self, input, config, **kwargs)\u001b[0m\n\u001b[0;32m    164\u001b[0m \u001b[38;5;28;01mexcept\u001b[39;00m \u001b[38;5;167;01mBaseException\u001b[39;00m \u001b[38;5;28;01mas\u001b[39;00m e:\n\u001b[0;32m    165\u001b[0m     run_manager\u001b[38;5;241m.\u001b[39mon_chain_error(e)\n\u001b[1;32m--> 166\u001b[0m     \u001b[38;5;28;01mraise\u001b[39;00m e\n\u001b[0;32m    167\u001b[0m run_manager\u001b[38;5;241m.\u001b[39mon_chain_end(outputs)\n\u001b[0;32m    169\u001b[0m \u001b[38;5;28;01mif\u001b[39;00m include_run_info:\n",
      "File \u001b[1;32m~\\AppData\\Roaming\\Python\\Python311\\site-packages\\langchain\\chains\\base.py:154\u001b[0m, in \u001b[0;36mChain.invoke\u001b[1;34m(self, input, config, **kwargs)\u001b[0m\n\u001b[0;32m    147\u001b[0m run_manager \u001b[38;5;241m=\u001b[39m callback_manager\u001b[38;5;241m.\u001b[39mon_chain_start(\n\u001b[0;32m    148\u001b[0m     dumpd(\u001b[38;5;28mself\u001b[39m),\n\u001b[0;32m    149\u001b[0m     inputs,\n\u001b[0;32m    150\u001b[0m     run_id,\n\u001b[0;32m    151\u001b[0m     name\u001b[38;5;241m=\u001b[39mrun_name,\n\u001b[0;32m    152\u001b[0m )\n\u001b[0;32m    153\u001b[0m \u001b[38;5;28;01mtry\u001b[39;00m:\n\u001b[1;32m--> 154\u001b[0m     \u001b[38;5;28;43mself\u001b[39;49m\u001b[38;5;241;43m.\u001b[39;49m\u001b[43m_validate_inputs\u001b[49m\u001b[43m(\u001b[49m\u001b[43minputs\u001b[49m\u001b[43m)\u001b[49m\n\u001b[0;32m    155\u001b[0m     outputs \u001b[38;5;241m=\u001b[39m (\n\u001b[0;32m    156\u001b[0m         \u001b[38;5;28mself\u001b[39m\u001b[38;5;241m.\u001b[39m_call(inputs, run_manager\u001b[38;5;241m=\u001b[39mrun_manager)\n\u001b[0;32m    157\u001b[0m         \u001b[38;5;28;01mif\u001b[39;00m new_arg_supported\n\u001b[0;32m    158\u001b[0m         \u001b[38;5;28;01melse\u001b[39;00m \u001b[38;5;28mself\u001b[39m\u001b[38;5;241m.\u001b[39m_call(inputs)\n\u001b[0;32m    159\u001b[0m     )\n\u001b[0;32m    161\u001b[0m     final_outputs: Dict[\u001b[38;5;28mstr\u001b[39m, Any] \u001b[38;5;241m=\u001b[39m \u001b[38;5;28mself\u001b[39m\u001b[38;5;241m.\u001b[39mprep_outputs(\n\u001b[0;32m    162\u001b[0m         inputs, outputs, return_only_outputs\n\u001b[0;32m    163\u001b[0m     )\n",
      "File \u001b[1;32m~\\AppData\\Roaming\\Python\\Python311\\site-packages\\langchain\\chains\\base.py:284\u001b[0m, in \u001b[0;36mChain._validate_inputs\u001b[1;34m(self, inputs)\u001b[0m\n\u001b[0;32m    282\u001b[0m missing_keys \u001b[38;5;241m=\u001b[39m \u001b[38;5;28mset\u001b[39m(\u001b[38;5;28mself\u001b[39m\u001b[38;5;241m.\u001b[39minput_keys)\u001b[38;5;241m.\u001b[39mdifference(inputs)\n\u001b[0;32m    283\u001b[0m \u001b[38;5;28;01mif\u001b[39;00m missing_keys:\n\u001b[1;32m--> 284\u001b[0m     \u001b[38;5;28;01mraise\u001b[39;00m \u001b[38;5;167;01mValueError\u001b[39;00m(\u001b[38;5;124mf\u001b[39m\u001b[38;5;124m\"\u001b[39m\u001b[38;5;124mMissing some input keys: \u001b[39m\u001b[38;5;132;01m{\u001b[39;00mmissing_keys\u001b[38;5;132;01m}\u001b[39;00m\u001b[38;5;124m\"\u001b[39m)\n",
      "\u001b[1;31mValueError\u001b[0m: Missing some input keys: {'\\n  \"question_1\"'}"
     ]
    }
   ],
   "source": [
    "context_input = \"please create the 10 mcqs on english.\"\n",
    "result = mcqschain.invoke({\"context\": context_input})\n",
    "\n",
    "# Example output handling\n",
    "quiz_data = result[\"text\"]  # Adjust based on actual output format\n",
    "print(quiz_data)"
   ]
  },
  {
   "cell_type": "code",
   "execution_count": 9,
   "metadata": {},
   "outputs": [],
   "source": [
    "text=\"please generate 12 mcqs on english\""
   ]
  },
  {
   "cell_type": "code",
   "execution_count": 8,
   "metadata": {},
   "outputs": [],
   "source": [
    "TEMPLATE = \"\"\"\n",
    "Text:{text}\n",
    "{prompt}\n",
    "\"\"\"\n",
    "\n",
    "quizzprompt = PromptTemplate(\n",
    "    input_variables=[\"text\", \"response\"],\n",
    "    template=TEMPLATE\n",
    ")"
   ]
  },
  {
   "cell_type": "code",
   "execution_count": 23,
   "metadata": {},
   "outputs": [],
   "source": [
    "from langchain.chains.combine_documents import create_stuff_documents_chain"
   ]
  },
  {
   "cell_type": "code",
   "execution_count": 28,
   "metadata": {},
   "outputs": [
    {
     "ename": "ValueError",
     "evalue": "Prompt must accept context as an input variable. Received prompt with input variables: ['prompt', 'text']",
     "output_type": "error",
     "traceback": [
      "\u001b[1;31m---------------------------------------------------------------------------\u001b[0m",
      "\u001b[1;31mValueError\u001b[0m                                Traceback (most recent call last)",
      "Cell \u001b[1;32mIn[28], line 1\u001b[0m\n\u001b[1;32m----> 1\u001b[0m chain \u001b[38;5;241m=\u001b[39m \u001b[43mcreate_stuff_documents_chain\u001b[49m\u001b[43m(\u001b[49m\u001b[43mmodel\u001b[49m\u001b[43m,\u001b[49m\u001b[43m \u001b[49m\u001b[43mquizzprompt\u001b[49m\u001b[43m)\u001b[49m\n\u001b[0;32m      2\u001b[0m chain\u001b[38;5;241m.\u001b[39minvoke({\u001b[38;5;124m\"\u001b[39m\u001b[38;5;124mtext\u001b[39m\u001b[38;5;124m\"\u001b[39m:\u001b[38;5;124m\"\u001b[39m\u001b[38;5;124mceate the 10 mcqs\u001b[39m\u001b[38;5;124m\"\u001b[39m})\n",
      "File \u001b[1;32m~\\AppData\\Roaming\\Python\\Python311\\site-packages\\langchain\\chains\\combine_documents\\stuff.py:74\u001b[0m, in \u001b[0;36mcreate_stuff_documents_chain\u001b[1;34m(llm, prompt, output_parser, document_prompt, document_separator)\u001b[0m\n\u001b[0;32m     22\u001b[0m \u001b[38;5;28;01mdef\u001b[39;00m \u001b[38;5;21mcreate_stuff_documents_chain\u001b[39m(\n\u001b[0;32m     23\u001b[0m     llm: LanguageModelLike,\n\u001b[0;32m     24\u001b[0m     prompt: BasePromptTemplate,\n\u001b[1;32m   (...)\u001b[0m\n\u001b[0;32m     28\u001b[0m     document_separator: \u001b[38;5;28mstr\u001b[39m \u001b[38;5;241m=\u001b[39m DEFAULT_DOCUMENT_SEPARATOR,\n\u001b[0;32m     29\u001b[0m ) \u001b[38;5;241m-\u001b[39m\u001b[38;5;241m>\u001b[39m Runnable[Dict[\u001b[38;5;28mstr\u001b[39m, Any], Any]:\n\u001b[0;32m     30\u001b[0m \u001b[38;5;250m    \u001b[39m\u001b[38;5;124;03m\"\"\"Create a chain for passing a list of Documents to a model.\u001b[39;00m\n\u001b[0;32m     31\u001b[0m \n\u001b[0;32m     32\u001b[0m \u001b[38;5;124;03m    Args:\u001b[39;00m\n\u001b[1;32m   (...)\u001b[0m\n\u001b[0;32m     71\u001b[0m \u001b[38;5;124;03m            chain.invoke({\"context\": docs})\u001b[39;00m\n\u001b[0;32m     72\u001b[0m \u001b[38;5;124;03m    \"\"\"\u001b[39;00m  \u001b[38;5;66;03m# noqa: E501\u001b[39;00m\n\u001b[1;32m---> 74\u001b[0m     \u001b[43m_validate_prompt\u001b[49m\u001b[43m(\u001b[49m\u001b[43mprompt\u001b[49m\u001b[43m)\u001b[49m\n\u001b[0;32m     75\u001b[0m     _document_prompt \u001b[38;5;241m=\u001b[39m document_prompt \u001b[38;5;129;01mor\u001b[39;00m DEFAULT_DOCUMENT_PROMPT\n\u001b[0;32m     76\u001b[0m     _output_parser \u001b[38;5;241m=\u001b[39m output_parser \u001b[38;5;129;01mor\u001b[39;00m StrOutputParser()\n",
      "File \u001b[1;32m~\\AppData\\Roaming\\Python\\Python311\\site-packages\\langchain\\chains\\combine_documents\\base.py:26\u001b[0m, in \u001b[0;36m_validate_prompt\u001b[1;34m(prompt)\u001b[0m\n\u001b[0;32m     24\u001b[0m \u001b[38;5;28;01mdef\u001b[39;00m \u001b[38;5;21m_validate_prompt\u001b[39m(prompt: BasePromptTemplate) \u001b[38;5;241m-\u001b[39m\u001b[38;5;241m>\u001b[39m \u001b[38;5;28;01mNone\u001b[39;00m:\n\u001b[0;32m     25\u001b[0m     \u001b[38;5;28;01mif\u001b[39;00m DOCUMENTS_KEY \u001b[38;5;129;01mnot\u001b[39;00m \u001b[38;5;129;01min\u001b[39;00m prompt\u001b[38;5;241m.\u001b[39minput_variables:\n\u001b[1;32m---> 26\u001b[0m         \u001b[38;5;28;01mraise\u001b[39;00m \u001b[38;5;167;01mValueError\u001b[39;00m(\n\u001b[0;32m     27\u001b[0m             \u001b[38;5;124mf\u001b[39m\u001b[38;5;124m\"\u001b[39m\u001b[38;5;124mPrompt must accept \u001b[39m\u001b[38;5;132;01m{\u001b[39;00mDOCUMENTS_KEY\u001b[38;5;132;01m}\u001b[39;00m\u001b[38;5;124m as an input variable. Received prompt \u001b[39m\u001b[38;5;124m\"\u001b[39m\n\u001b[0;32m     28\u001b[0m             \u001b[38;5;124mf\u001b[39m\u001b[38;5;124m\"\u001b[39m\u001b[38;5;124mwith input variables: \u001b[39m\u001b[38;5;132;01m{\u001b[39;00mprompt\u001b[38;5;241m.\u001b[39minput_variables\u001b[38;5;132;01m}\u001b[39;00m\u001b[38;5;124m\"\u001b[39m\n\u001b[0;32m     29\u001b[0m         )\n",
      "\u001b[1;31mValueError\u001b[0m: Prompt must accept context as an input variable. Received prompt with input variables: ['prompt', 'text']"
     ]
    }
   ],
   "source": [
    "chain = create_stuff_documents_chain(model, quizzprompt)\n",
    "chain.invoke({\"text\":\"ceate the 10 mcqs\"})\n"
   ]
  },
  {
   "cell_type": "code",
   "execution_count": 16,
   "metadata": {},
   "outputs": [],
   "source": [
    "responce=model.invoke(f\"{prompt} {text}\")"
   ]
  },
  {
   "cell_type": "code",
   "execution_count": 14,
   "metadata": {},
   "outputs": [
    {
     "data": {
      "text/plain": [
       "'{\\n  \"question_1\": {\\n    \"question\": \"What is the synonym of \\'happy\\'?\",\\n    \"options\": {\\n      \"A\": \"Sad\",\\n      \"B\": \"Elated\",\\n      \"C\": \"Angry\",\\n      \"D\": \"Bored\"\\n    },\\n    \"correct_answer\": \"B\"\\n  },\\n  \"question_2\": {\\n    \"question\": \"In the sentence \\'The cat is sleeping on the mat\\', what is \\'mat\\'?\",\\n    \"options\": {\\n      \"A\": \"Subject\",\\n      \"B\": \"Predicate\",\\n      \"C\": \"Object\",\\n      \"D\": \"Verb\"\\n    },\\n    \"correct_answer\": \"C\"\\n  },\\n  \"question_3\": {\\n    \"question\": \"Which word is an adjective in the sentence \\'The beautiful garden is full of colorful flowers\\'?\",\\n    \"options\": {\\n      \"A\": \"Beautiful\",\\n      \"B\": \"Garden\",\\n      \"C\": \"Full\",\\n      \"D\": \"Flowers\"\\n    },\\n    \"correct_answer\": \"A\"\\n  },\\n  \"question_4\": {\\n    \"question\": \"What is the plural of \\'mouse\\'?\",\\n    \"options\": {\\n      \"A\": \"Mouses\",\\n      \"B\": \"Mice\",\\n      \"C\": \"Mouse\",\\n      \"D\": \"Moose\"\\n    },\\n    \"correct_answer\": \"B\"\\n  },\\n  \"question_5\": {\\n    \"question\": \"Which of these words is a noun?\",\\n    \"options\": {\\n      \"A\": \"Run\",\\n      \"B\": \"Fast\",\\n      \"C\": \"City\",\\n      \"D\": \"Quickly\"\\n    },\\n    \"correct_answer\": \"C\"\\n  },\\n  \"question_6\": {\\n    \"question\": \"What is the past tense of \\'run\\'?\",\\n    \"options\": {\\n      \"A\": \"Ran\",\\n      \"B\": \"Runs\",\\n      \"C\": \"Running\",\\n      \"D\": \"Runned\"\\n    },\\n    \"correct_answer\": \"A\"\\n  },\\n  \"question_7\": {\\n    \"question\": \"Which of these sentences is grammatically correct?\",\\n    \"options\": {\\n      \"A\": \"She don\\'t like coffee.\",\\n      \"B\": \"She doesn\\'t likes coffee.\",\\n      \"C\": \"She doesn\\'t like coffee.\",\\n      \"D\": \"She don\\'t likes coffee.\"\\n    },\\n    \"correct_answer\": \"C\"\\n  },\\n  \"question_8\": {\\n    \"question\": \"What is the antonym of \\'ancient\\'?\",\\n    \"options\": {\\n      \"A\": \"Old\",\\n      \"B\": \"Modern\",\\n      \"C\": \"Vintage\",\\n      \"D\": \"Traditional\"\\n    },\\n    \"correct_answer\": \"B\"\\n  },\\n  \"question_9\": {\\n    \"question\": \"Which of these is a conjunction?\",\\n    \"options\": {\\n      \"A\": \"And\",\\n      \"B\": \"Run\",\\n      \"C\": \"Fast\",\\n      \"D\": \"With\"\\n    },\\n    \"correct_answer\": \"A\"\\n  },\\n  \"question_10\": {\\n    \"question\": \"What type of word is \\'quickly\\' in the sentence \\'She ran quickly\\'?\",\\n    \"options\": {\\n      \"A\": \"Adverb\",\\n      \"B\": \"Adjective\",\\n      \"C\": \"Verb\",\\n      \"D\": \"Noun\"\\n    },\\n    \"correct_answer\": \"A\"\\n  },\\n  \"question_11\": {\\n    \"question\": \"What is the superlative form of \\'good\\'?\",\\n    \"options\": {\\n      \"A\": \"Gooder\",\\n      \"B\": \"Goodest\",\\n      \"C\": \"Best\",\\n      \"D\": \"Better\"\\n    },\\n    \"correct_answer\": \"C\"\\n  },\\n  \"question_12\": {\\n    \"question\": \"Which punctuation mark is used to separate items in a list?\",\\n    \"options\": {\\n      \"A\": \"Period\",\\n      \"B\": \"Comma\",\\n      \"C\": \"Colon\",\\n      \"D\": \"Semicolon\"\\n    },\\n    \"correct_answer\": \"B\"\\n  }\\n}'"
      ]
     },
     "execution_count": 14,
     "metadata": {},
     "output_type": "execute_result"
    }
   ],
   "source": [
    "responce.content"
   ]
  },
  {
   "cell_type": "code",
   "execution_count": 15,
   "metadata": {},
   "outputs": [
    {
     "name": "stdout",
     "output_type": "stream",
     "text": [
      "{\n",
      "  \"question_1\": {\n",
      "    \"question\": \"What is the synonym of 'happy'?\",\n",
      "    \"options\": {\n",
      "      \"A\": \"Sad\",\n",
      "      \"B\": \"Elated\",\n",
      "      \"C\": \"Angry\",\n",
      "      \"D\": \"Bored\"\n",
      "    },\n",
      "    \"correct_answer\": \"B\"\n",
      "  },\n",
      "  \"question_2\": {\n",
      "    \"question\": \"In the sentence 'The cat is sleeping on the mat', what is 'mat'?\",\n",
      "    \"options\": {\n",
      "      \"A\": \"Subject\",\n",
      "      \"B\": \"Predicate\",\n",
      "      \"C\": \"Object\",\n",
      "      \"D\": \"Verb\"\n",
      "    },\n",
      "    \"correct_answer\": \"C\"\n",
      "  },\n",
      "  \"question_3\": {\n",
      "    \"question\": \"Which word is an adjective in the sentence 'The beautiful garden is full of colorful flowers'?\",\n",
      "    \"options\": {\n",
      "      \"A\": \"Beautiful\",\n",
      "      \"B\": \"Garden\",\n",
      "      \"C\": \"Full\",\n",
      "      \"D\": \"Flowers\"\n",
      "    },\n",
      "    \"correct_answer\": \"A\"\n",
      "  },\n",
      "  \"question_4\": {\n",
      "    \"question\": \"What is the plural of 'mouse'?\",\n",
      "    \"options\": {\n",
      "      \"A\": \"Mouses\",\n",
      "      \"B\": \"Mice\",\n",
      "      \"C\": \"Mouse\",\n",
      "      \"D\": \"Moose\"\n",
      "    },\n",
      "    \"correct_answer\": \"B\"\n",
      "  },\n",
      "  \"question_5\": {\n",
      "    \"question\": \"Which of these words is a noun?\",\n",
      "    \"options\": {\n",
      "      \"A\": \"Run\",\n",
      "      \"B\": \"Fast\",\n",
      "      \"C\": \"City\",\n",
      "      \"D\": \"Quickly\"\n",
      "    },\n",
      "    \"correct_answer\": \"C\"\n",
      "  },\n",
      "  \"question_6\": {\n",
      "    \"question\": \"What is the past tense of 'run'?\",\n",
      "    \"options\": {\n",
      "      \"A\": \"Ran\",\n",
      "      \"B\": \"Runs\",\n",
      "      \"C\": \"Running\",\n",
      "      \"D\": \"Runned\"\n",
      "    },\n",
      "    \"correct_answer\": \"A\"\n",
      "  },\n",
      "  \"question_7\": {\n",
      "    \"question\": \"Which of these sentences is grammatically correct?\",\n",
      "    \"options\": {\n",
      "      \"A\": \"She don't like coffee.\",\n",
      "      \"B\": \"She doesn't likes coffee.\",\n",
      "      \"C\": \"She doesn't like coffee.\",\n",
      "      \"D\": \"She don't likes coffee.\"\n",
      "    },\n",
      "    \"correct_answer\": \"C\"\n",
      "  },\n",
      "  \"question_8\": {\n",
      "    \"question\": \"What is the antonym of 'ancient'?\",\n",
      "    \"options\": {\n",
      "      \"A\": \"Old\",\n",
      "      \"B\": \"Modern\",\n",
      "      \"C\": \"Vintage\",\n",
      "      \"D\": \"Traditional\"\n",
      "    },\n",
      "    \"correct_answer\": \"B\"\n",
      "  },\n",
      "  \"question_9\": {\n",
      "    \"question\": \"Which of these is a conjunction?\",\n",
      "    \"options\": {\n",
      "      \"A\": \"And\",\n",
      "      \"B\": \"Run\",\n",
      "      \"C\": \"Fast\",\n",
      "      \"D\": \"With\"\n",
      "    },\n",
      "    \"correct_answer\": \"A\"\n",
      "  },\n",
      "  \"question_10\": {\n",
      "    \"question\": \"What type of word is 'quickly' in the sentence 'She ran quickly'?\",\n",
      "    \"options\": {\n",
      "      \"A\": \"Adverb\",\n",
      "      \"B\": \"Adjective\",\n",
      "      \"C\": \"Verb\",\n",
      "      \"D\": \"Noun\"\n",
      "    },\n",
      "    \"correct_answer\": \"A\"\n",
      "  },\n",
      "  \"question_11\": {\n",
      "    \"question\": \"What is the superlative form of 'good'?\",\n",
      "    \"options\": {\n",
      "      \"A\": \"Gooder\",\n",
      "      \"B\": \"Goodest\",\n",
      "      \"C\": \"Best\",\n",
      "      \"D\": \"Better\"\n",
      "    },\n",
      "    \"correct_answer\": \"C\"\n",
      "  },\n",
      "  \"question_12\": {\n",
      "    \"question\": \"Which punctuation mark is used to separate items in a list?\",\n",
      "    \"options\": {\n",
      "      \"A\": \"Period\",\n",
      "      \"B\": \"Comma\",\n",
      "      \"C\": \"Colon\",\n",
      "      \"D\": \"Semicolon\"\n",
      "    },\n",
      "    \"correct_answer\": \"B\"\n",
      "  }\n",
      "}\n"
     ]
    }
   ],
   "source": [
    "print(responce.content)"
   ]
  },
  {
   "cell_type": "code",
   "execution_count": 16,
   "metadata": {},
   "outputs": [],
   "source": [
    "mcqs=eval(responce.content)"
   ]
  },
  {
   "cell_type": "code",
   "execution_count": 17,
   "metadata": {},
   "outputs": [
    {
     "name": "stdout",
     "output_type": "stream",
     "text": [
      "Question: What is the synonym of 'happy'?\n",
      "  A: Sad\n",
      "  B: Elated\n",
      "  C: Angry\n",
      "  D: Bored\n",
      "Correct Answer: B\n",
      "\n",
      "Question: In the sentence 'The cat is sleeping on the mat', what is 'mat'?\n",
      "  A: Subject\n",
      "  B: Predicate\n",
      "  C: Object\n",
      "  D: Verb\n",
      "Correct Answer: C\n",
      "\n",
      "Question: Which word is an adjective in the sentence 'The beautiful garden is full of colorful flowers'?\n",
      "  A: Beautiful\n",
      "  B: Garden\n",
      "  C: Full\n",
      "  D: Flowers\n",
      "Correct Answer: A\n",
      "\n",
      "Question: What is the plural of 'mouse'?\n",
      "  A: Mouses\n",
      "  B: Mice\n",
      "  C: Mouse\n",
      "  D: Moose\n",
      "Correct Answer: B\n",
      "\n",
      "Question: Which of these words is a noun?\n",
      "  A: Run\n",
      "  B: Fast\n",
      "  C: City\n",
      "  D: Quickly\n",
      "Correct Answer: C\n",
      "\n",
      "Question: What is the past tense of 'run'?\n",
      "  A: Ran\n",
      "  B: Runs\n",
      "  C: Running\n",
      "  D: Runned\n",
      "Correct Answer: A\n",
      "\n",
      "Question: Which of these sentences is grammatically correct?\n",
      "  A: She don't like coffee.\n",
      "  B: She doesn't likes coffee.\n",
      "  C: She doesn't like coffee.\n",
      "  D: She don't likes coffee.\n",
      "Correct Answer: C\n",
      "\n",
      "Question: What is the antonym of 'ancient'?\n",
      "  A: Old\n",
      "  B: Modern\n",
      "  C: Vintage\n",
      "  D: Traditional\n",
      "Correct Answer: B\n",
      "\n",
      "Question: Which of these is a conjunction?\n",
      "  A: And\n",
      "  B: Run\n",
      "  C: Fast\n",
      "  D: With\n",
      "Correct Answer: A\n",
      "\n",
      "Question: What type of word is 'quickly' in the sentence 'She ran quickly'?\n",
      "  A: Adverb\n",
      "  B: Adjective\n",
      "  C: Verb\n",
      "  D: Noun\n",
      "Correct Answer: A\n",
      "\n",
      "Question: What is the superlative form of 'good'?\n",
      "  A: Gooder\n",
      "  B: Goodest\n",
      "  C: Best\n",
      "  D: Better\n",
      "Correct Answer: C\n",
      "\n",
      "Question: Which punctuation mark is used to separate items in a list?\n",
      "  A: Period\n",
      "  B: Comma\n",
      "  C: Colon\n",
      "  D: Semicolon\n",
      "Correct Answer: B\n",
      "\n"
     ]
    }
   ],
   "source": [
    "def print_mcqs(mcq_data):\n",
    "    for key, value in mcq_data.items():\n",
    "        print(f\"Question: {value['question']}\")\n",
    "        for option_key, option_value in value['options'].items():\n",
    "            print(f\"  {option_key}: {option_value}\")\n",
    "        print(f\"Correct Answer: {value['correct_answer']}\\n\")\n",
    "        \n",
    "# Print the MCQs\n",
    "print_mcqs(mcqs)"
   ]
  },
  {
   "cell_type": "code",
   "execution_count": 14,
   "metadata": {},
   "outputs": [],
   "source": [
    "from langchain.llms import GooglePalm\n",
    "from langchain import PromptTemplate\n",
    "from langchain.chains import LLMChain, SequentialChain\n",
    "from langchain import HuggingFaceHub\n",
    "from dotenv import load_dotenv\n",
    "import os\n",
    "import pdfkit\n",
    "from django.http import FileResponse\n",
    "from reportlab.lib.pagesizes import letter\n",
    "from reportlab.pdfgen import canvas\n",
    "import base64\n",
    "from langchain.document_loaders import PyPDFLoader\n",
    "\n",
    "import io\n",
    "import re\n",
    "from PyPDF2 import PdfReader\n",
    "\n",
    "from django.http import JsonResponse\n",
    "from django.shortcuts import render\n",
    "from django.views.decorators.csrf import csrf_exempt\n",
    "import json"
   ]
  },
  {
   "cell_type": "code",
   "execution_count": 15,
   "metadata": {},
   "outputs": [],
   "source": [
    "def create_pdf_from_text(text, filename):\n",
    "    # Create a canvas (PDF)\n",
    "    c = canvas.Canvas(filename, pagesize=letter)\n",
    "\n",
    "    # Set up the font\n",
    "    c.setFont(\"Helvetica\", 12)\n",
    "\n",
    "    # Split the text into lines and draw them on the canvas\n",
    "    lines = text.split('\\n')\n",
    "    y = 750  # Starting y-coordinate\n",
    "    for line in lines:\n",
    "        c.drawString(50, y, line)\n",
    "        y -= 20  # Move to the next line\n",
    "\n",
    "    # Save the PDF\n",
    "    c.save()\n",
    "    with open(\"mcqs2.pdf\", \"rb\") as f:\n",
    "        pdf_content = f.read()\n",
    "        response = FileResponse(pdf_content, content_type='application/pdf')\n",
    "        response['Content-Disposition'] = 'inline; filename=\"mcqs2.pdf\"'\n",
    "        return response"
   ]
  },
  {
   "cell_type": "code",
   "execution_count": 8,
   "metadata": {},
   "outputs": [],
   "source": [
    "import json"
   ]
  },
  {
   "cell_type": "code",
   "execution_count": 9,
   "metadata": {},
   "outputs": [],
   "source": [
    "b=responce.content"
   ]
  },
  {
   "cell_type": "code",
   "execution_count": 11,
   "metadata": {},
   "outputs": [],
   "source": [
    "a=json.dumps(b)"
   ]
  },
  {
   "cell_type": "code",
   "execution_count": 16,
   "metadata": {},
   "outputs": [
    {
     "data": {
      "text/plain": [
       "<FileResponse status_code=200, \"application/pdf\">"
      ]
     },
     "execution_count": 16,
     "metadata": {},
     "output_type": "execute_result"
    }
   ],
   "source": [
    "create_pdf_from_text(a,\"mcqs2.pdf\")"
   ]
  },
  {
   "cell_type": "code",
   "execution_count": 73,
   "metadata": {},
   "outputs": [],
   "source": [
    "def extract_questions(questions_list):\n",
    "    questions_dict = {}\n",
    "    current_question = None\n",
    "\n",
    "    # Iterate through the list\n",
    "    for item in questions_list:\n",
    "        # Check if the item starts with '**Question'\n",
    "        if item.startswith('**'):\n",
    "            # Extract the question number\n",
    "            question_number = item.replace('** ', '')\n",
    "            current_question = question_number\n",
    "            questions_dict[question_number] = {'question': None, 'question_statement': None, 'options': []}\n",
    "        elif current_question is not None:\n",
    "            # Check if the item starts with 'Options'\n",
    "            if item.startswith('        Options:'):\n",
    "                # Skip this line\n",
    "                continue\n",
    "            else:\n",
    "                # Check if the item starts with '        a)', '        b)', '        c)', or '        d)'\n",
    "                if item.startswith('        a)') or item.startswith('        b)') or item.startswith('        c)') or item.startswith('        d)'):\n",
    "                    # Add the option to the options list\n",
    "                    questions_dict[current_question]['options'].append(item.strip())\n",
    "                else:\n",
    "                    # If it's not an option, it's the question statement\n",
    "                    questions_dict[current_question]['question_statement'] = item.strip()\n",
    "        else:\n",
    "            # If current_question is None, it means we haven't encountered a question yet\n",
    "            continue\n",
    "\n",
    "    for question_number, question_info in questions_dict.items():\n",
    "        print(f\"Question {question_number}:\")\n",
    "        print(f\"Question: {question_info['question_statement']}\")\n",
    "        print(\"Options:\")\n",
    "        for option in question_info['options']:\n",
    "            print(option)\n",
    "        print()\n",
    "    return questions_dict\n"
   ]
  },
  {
   "cell_type": "code",
   "execution_count": 74,
   "metadata": {},
   "outputs": [],
   "source": [
    "def parse_mcqs(text):\n",
    "    # Implement your logic to parse the MCQs from the text\n",
    "    # and return a suitable data structure (e.g., a list of dictionaries)\n",
    "    # This is just an example, you need to adapt it to your actual MCQ format\n",
    "    # print(text)\n",
    "    mcqs = []\n",
    "    for mcq_text in text.split('\\n\\n'):\n",
    "        mcq = {}\n",
    "        lines = mcq_text.split('\\n')\n",
    "        print(lines)\n",
    "        dicts=extract_questions(lines)\n",
    "        print(dicts)\n",
    "        # mcq['question'] = lines[0]\n",
    "        # mcq[\"questionstatement\"]=lines[1]\n",
    "        # print(mcq)\n",
    "        \n",
    "        # mcq['options'] = []\n",
    "        # for option_line in lines[3:]:\n",
    "        #     if option_line.strip():\n",
    "        #         option = option_line.split(')')[1].strip()\n",
    "        #         mcq['options'].append(option)\n",
    "        # mcqs.append(mcq)\n",
    "    return dicts"
   ]
  },
  {
   "cell_type": "code",
   "execution_count": 75,
   "metadata": {},
   "outputs": [],
   "source": [
    "def attempt_quiz():\n",
    "    # Open the PDF file\n",
    "    with open(\"mcqs.pdf\", \"rb\") as pdf_file:\n",
    "        pdf_reader = PdfReader(pdf_file)\n",
    "        text = \"\"\n",
    "        for page in pdf_reader.pages:\n",
    "            text += page.extract_text()\n",
    "        # print(text)\n",
    "        \n",
    "        # Parse the MCQs from the text\n",
    "    # print(\"...............................................................................\")\n",
    "    # mcqs = parse_mcqs(text)\n",
    "\n",
    "    \n",
    "    return mcqs\n",
    "    # for question_number, question_info in mcqs.items():\n",
    "    #     print(f\"Question {question_number}:\")\n",
    "    #     print(f\"Question: {question_info['question_statement']}\")\n",
    "    #     print(\"Options:\")\n",
    "    #     for option in question_info['options']:\n",
    "    #         print(option)\n",
    "    #     print()\n",
    "    # return mcqs"
   ]
  },
  {
   "cell_type": "code",
   "execution_count": 76,
   "metadata": {},
   "outputs": [],
   "source": [
    "a=attempt_quiz()"
   ]
  },
  {
   "cell_type": "code",
   "execution_count": 83,
   "metadata": {},
   "outputs": [
    {
     "data": {
      "text/plain": [
       "str"
      ]
     },
     "execution_count": 83,
     "metadata": {},
     "output_type": "execute_result"
    }
   ],
   "source": []
  },
  {
   "cell_type": "code",
   "execution_count": 77,
   "metadata": {},
   "outputs": [
    {
     "ename": "AttributeError",
     "evalue": "'str' object has no attribute 'items'",
     "output_type": "error",
     "traceback": [
      "\u001b[1;31m---------------------------------------------------------------------------\u001b[0m",
      "\u001b[1;31mAttributeError\u001b[0m                            Traceback (most recent call last)",
      "Cell \u001b[1;32mIn[77], line 1\u001b[0m\n\u001b[1;32m----> 1\u001b[0m \u001b[38;5;28;01mfor\u001b[39;00m question_number, question_info \u001b[38;5;129;01min\u001b[39;00m \u001b[43ma\u001b[49m\u001b[38;5;241;43m.\u001b[39;49m\u001b[43mitems\u001b[49m():\n\u001b[0;32m      2\u001b[0m         \u001b[38;5;28mprint\u001b[39m(\u001b[38;5;124mf\u001b[39m\u001b[38;5;124m\"\u001b[39m\u001b[38;5;124mQuestion \u001b[39m\u001b[38;5;132;01m{\u001b[39;00mquestion_number\u001b[38;5;132;01m}\u001b[39;00m\u001b[38;5;124m:\u001b[39m\u001b[38;5;124m\"\u001b[39m)\n\u001b[0;32m      3\u001b[0m         \u001b[38;5;28mprint\u001b[39m(\u001b[38;5;124mf\u001b[39m\u001b[38;5;124m\"\u001b[39m\u001b[38;5;124mQuestion: \u001b[39m\u001b[38;5;132;01m{\u001b[39;00mquestion_info[\u001b[38;5;124m'\u001b[39m\u001b[38;5;124mquestion_statement\u001b[39m\u001b[38;5;124m'\u001b[39m]\u001b[38;5;132;01m}\u001b[39;00m\u001b[38;5;124m\"\u001b[39m)\n",
      "\u001b[1;31mAttributeError\u001b[0m: 'str' object has no attribute 'items'"
     ]
    }
   ],
   "source": [
    "for question_number, question_info in a.items():\n",
    "        print(f\"Question {question_number}:\")\n",
    "        print(f\"Question: {question_info['question_statement']}\")\n",
    "        print(\"Options:\")\n",
    "        for option in question_info['options']:\n",
    "            print(option)\n",
    "        print()\n",
    "   "
   ]
  },
  {
   "cell_type": "code",
   "execution_count": 55,
   "metadata": {},
   "outputs": [
    {
     "data": {
      "text/plain": [
       "{}"
      ]
     },
     "execution_count": 55,
     "metadata": {},
     "output_type": "execute_result"
    }
   ],
   "source": [
    "a"
   ]
  },
  {
   "cell_type": "code",
   "execution_count": null,
   "metadata": {},
   "outputs": [],
   "source": []
  },
  {
   "cell_type": "code",
   "execution_count": 25,
   "metadata": {},
   "outputs": [
    {
     "name": "stderr",
     "output_type": "stream",
     "text": [
      "C:\\Users\\PMLS\\AppData\\Roaming\\Python\\Python311\\site-packages\\langchain_core\\_api\\deprecation.py:139: LangChainDeprecationWarning: The class `LLMChain` was deprecated in LangChain 0.1.17 and will be removed in 0.3.0. Use RunnableSequence, e.g., `prompt | llm` instead.\n",
      "  warn_deprecated(\n",
      "C:\\Users\\PMLS\\AppData\\Roaming\\Python\\Python311\\site-packages\\langchain_core\\_api\\deprecation.py:139: LangChainDeprecationWarning: The method `Chain.__call__` was deprecated in langchain 0.1.0 and will be removed in 0.3.0. Use invoke instead.\n",
      "  warn_deprecated(\n"
     ]
    }
   ],
   "source": [
    "response = \"\"\"\n",
    "        \n",
    "        [Question text here]\n",
    "\n",
    "        Options:\n",
    "        a) [Option a text]\n",
    "        b) [Option b text]\n",
    "        c) [Option c text]\n",
    "        d) [Option d text]\n",
    "\"\"\"\n",
    "\n",
    "text = \"\"\"\n",
    "        Quaid-e-Azam Muhammad Ali Jinnah, often referred to as the Father of the Nation in Pakistan, was an exceptional leader whose contributions to the Indian freedom movement and the creation of Pakistan are unparalleled. Born on December 25, 1876, in Karachi, then part of British India, Jinnah's life and legacy continue to inspire millions around the world.\n",
    "        \n",
    "        ...\n",
    "        \n",
    "        His unwavering commitment to the principles of democracy, tolerance, and equality remains a cornerstone of the nation's identity, reminding Pakistanis of their responsibility to uphold the ideals for which he fought so tirelessly.\n",
    "        \"\"\"\n",
    "\n",
    "TEMPLATE = \"\"\"\n",
    "Text:{text}\n",
    "You are an mcqs generator expert. Given the above text, it is your job to \\\n",
    "create a quiz of {number} multiple choice questions for {subject} subject and difficult level is {tone}. \n",
    "Make sure the questions are not repeated and check all the questions to be conforming the text as well.\n",
    "Make sure to format your response like {response} and use it as a guide do not repeat my prompt in your response. \\\n",
    "Ensure to make {number} MCQs do not produce less or greater by your own generate the exact {number} mcqs\n",
    "\"\"\"\n",
    "\n",
    "quiz_generation_prompt = PromptTemplate(\n",
    "    input_variables=[\"text\", \"number\", \"subject\", \"tone\", \"response\"],\n",
    "    template=TEMPLATE\n",
    ")\n",
    "\n",
    "mcqschain = LLMChain(llm=model, prompt=quiz_generation_prompt, output_key=\"mcqs\")\n",
    "\n",
    "TEMPLATE2 = \"\"\"\n",
    "You are an expert english grammarian and writer. Given a Multiple Choice Quiz for {subject} students.\\\n",
    "You need to evaluate the complexity of the question and give a complete analysis of the quiz.\\ check whether it generate {number}  mcqs\\\n",
    "and also check it give the proper response \\\n",
    "if the quiz is not at per with the cognitive and analytical abilities of the students,\\\n",
    "update the quiz until whether it matches the exact {number} mcqs which provide in the prompt questions and change the tone such that it perfectly fits the student abilities\n",
    "Quiz_MCQs:\n",
    "{mcqs}\n",
    "\n",
    "please check the total number of the mcqs it it do not match with the user prompt generate again \n",
    "\n",
    "Check from an expert English Writer of the above quiz:\n",
    "\"\"\"\n",
    "quiz_evaluation_prompt = PromptTemplate(input_variables=['text'], template=TEMPLATE2)\n",
    "\n",
    "mcqreview = LLMChain(llm=model, prompt=quiz_evaluation_prompt, output_key=\"reviewmcqs\")\n",
    "\n",
    "generatevaluatechain = SequentialChain(chains=[mcqschain, mcqreview],\n",
    "                                        input_variables=[\"text\", \"number\", \"subject\", \"tone\", \"response\"],\n",
    "                                        output_variables=[\"mcqs\", \"reviewmcqs\"])\n",
    "\n",
    "mcq_count = 11\n",
    "subject = \"english\"\n",
    "tone = \"difficult\"\n",
    "\n",
    "response = generatevaluatechain(\n",
    "    {\n",
    "        \"text\": text,\n",
    "    }\n",
    ")\n",
    "\n",
    "mcqs = response.get(\"mcqs\")\n",
    "reviewmcqs = response.get(\"reviewmcqs\")\n",
    "mcqs = str(mcqs)\n",
    "create_pdf_from_text(mcqs, \"mcqs2.pdf\")\n",
    "\n",
    "with open(\"mcqs2.pdf\", \"rb\") as f:\n",
    "    pdf_content = f.read()"
   ]
  },
  {
   "cell_type": "code",
   "execution_count": 34,
   "metadata": {},
   "outputs": [
    {
     "data": {
      "text/plain": [
       "<FileResponse status_code=200, \"application/pdf\">"
      ]
     },
     "execution_count": 34,
     "metadata": {},
     "output_type": "execute_result"
    }
   ],
   "source": [
    "response = \"\"\"\n",
    "        \n",
    "        [Question text here]\n",
    "\n",
    "        Options:\n",
    "        a) [Option a text]\n",
    "        b) [Option b text]\n",
    "        c) [Option c text]\n",
    "        d) [Option d text]\n",
    "\"\"\"\n",
    "\n",
    "text = \"\"\"\n",
    "        Quaid-e-Azam Muhammad Ali Jinnah, often referred to as the Father of the Nation in Pakistan, was an exceptional leader whose contributions to the Indian freedom movement and the creation of Pakistan are unparalleled. Born on December 25, 1876, in Karachi, then part of British India, Jinnah's life and legacy continue to inspire millions around the world.\n",
    "        \n",
    "        ...\n",
    "        \n",
    "        His unwavering commitment to the principles of democracy, tolerance, and equality remains a cornerstone of the nation's identity, reminding Pakistanis of their responsibility to uphold the ideals for which he fought so tirelessly.\n",
    "        \"\"\"\n",
    "\n",
    "TEMPLATE = \"\"\"\n",
    "Text:{text}\n",
    "You are an mcqs generator expert. Given the above text, it is your job to \\\n",
    "create a quiz of 6 multiple choice questions for english subject and difficult level is difficult. \n",
    "Make sure the questions are not repeated and check all the questions to be conforming the text as well.\n",
    "Make sure to format your response like {response} and use it as a guide do not repeat my prompt in your response. \\\n",
    "Ensure to make 6 MCQs do not produce less or greater by your own generate the exact 6 mcqs\n",
    "\"\"\"\n",
    "\n",
    "quiz_generation_prompt = PromptTemplate(\n",
    "    input_variables=[\"text\", \"response\"],\n",
    "    template=TEMPLATE\n",
    ")\n",
    "\n",
    "mcqschain = LLMChain(llm=model, prompt=quiz_generation_prompt, output_key=\"mcqs\")\n",
    "\n",
    "TEMPLATE2 = \"\"\"\n",
    "You are an expert english grammarian and writer. Given a Multiple Choice Quiz for english students.\\\n",
    "You need to evaluate the complexity of the question and give a complete analysis of the quiz.\\ check whether it generate 6  mcqs\\\n",
    "and also check it give the proper response \\\n",
    "if the quiz is not at per with the cognitive and analytical abilities of the students,\\\n",
    "update the quiz until whether it matches the exact 6 mcqs which provide in the prompt questions and change the tone such that it perfectly fits the student abilities\n",
    "Quiz_MCQs:\n",
    "{mcqs}\n",
    "\n",
    "please check the total number of the mcqs it it do not match with the user prompt generate again \n",
    "\n",
    "Check from an expert English Writer of the above quiz:\n",
    "\"\"\"\n",
    "quiz_evaluation_prompt = PromptTemplate(input_variables=['mcqs'], template=TEMPLATE2)\n",
    "\n",
    "mcqreview = LLMChain(llm=model, prompt=quiz_evaluation_prompt, output_key=\"reviewmcqs\")\n",
    "\n",
    "generatevaluatechain = SequentialChain(chains=[mcqschain, mcqreview],\n",
    "                                        input_variables=[\"text\", \"response\"],\n",
    "                                        output_variables=[\"mcqs\", \"reviewmcqs\"])\n",
    "\n",
    "response = generatevaluatechain(\n",
    "    {\n",
    "        \"text\": text,\n",
    "        \"response\": response\n",
    "    }\n",
    ")\n",
    "\n",
    "mcqs = response.get(\"mcqs\")\n",
    "reviewmcqs = response.get(\"reviewmcqs\")\n",
    "mcqs = str(mcqs)\n",
    "create_pdf_from_text(mcqs, \"mcqs.pdf\")\n",
    "\n",
    "\n"
   ]
  },
  {
   "cell_type": "code",
   "execution_count": 12,
   "metadata": {},
   "outputs": [
    {
     "data": {
      "text/plain": [
       "str"
      ]
     },
     "execution_count": 12,
     "metadata": {},
     "output_type": "execute_result"
    }
   ],
   "source": [
    "type(a)"
   ]
  },
  {
   "cell_type": "code",
   "execution_count": 112,
   "metadata": {},
   "outputs": [
    {
     "name": "stdout",
     "output_type": "stream",
     "text": [
      "1. {\n",
      "    titleofquiz:\"Artificial Intelligence Quiz 1\",\n",
      "    question: \"What is AI?\",\n",
      "    options: [\"a:Artificial Intelligence\",\"b:Applied Intelligence\",\"c:Alphabetical Intelligence\",\"d:Analytical Intelligence\"],\n",
      "    correctanswer:\"a:Artificial Intelligence\"\n",
      "}\n",
      "\n",
      "2. {\n",
      "    titleofquiz:\"Artificial Intelligence Quiz 2\",\n",
      "    question: \"Who is known as the father of Artificial Intelligence?\",\n",
      "    options: [\"a:Alan Turing\",\"b:John McCarthy\",\"c:Elon Musk\",\"d:Bill Gates\"],\n",
      "    correctanswer:\"b:John McCarthy\"\n",
      "}\n",
      "\n",
      "3. {\n",
      "    titleofquiz:\"Artificial Intelligence Quiz 3\",\n",
      "    question: \"What are the subfields of AI?\",\n",
      "    options: [\"a:Machine Learning and Deep Learning\",\"b:Robotics and Vision\",\"c:Natural Language Processing and Speech Recognition\",\"d:All of the above\"],\n",
      "    correctanswer:\"d:All of the above\"\n",
      "}\n",
      "\n",
      "4. {\n",
      "    titleofquiz:\"Artificial Intelligence Quiz 4\",\n",
      "    question: \"What is the goal of AI?\",\n",
      "    options: [\"a:To Create Expert Systems\",\"b:To Implement Human Intelligence in Machines\",\"c:Both a & b\",\"d:None of the above\"],\n",
      "    correctanswer:\"c:Both a & b\"\n",
      "}\n",
      "\n",
      "5. {\n",
      "    titleofquiz:\"Artificial Intelligence Quiz 5\",\n",
      "    question: \"What is Machine Learning?\",\n",
      "    options: [\"a:Learning to operate machinery\",\"b:Type of AI that allows a machine to learn from experience\",\"c:Programming language\",\"d:Software application\"],\n",
      "    correctanswer:\"b:Type of AI that allows a machine to learn from experience\"\n",
      "}\n",
      "\n",
      "6. {\n",
      "    titleofquiz:\"Artificial Intelligence Quiz 6\",\n",
      "    question: \"What is the Turing test?\",\n",
      "    options: [\"a:Test to measure the intelligence of a machine\",\"b:Test to measure the speed of a machine\",\"c:Test to measure the power of a machine\",\"d:Test to measure the accuracy of a machine\"],\n",
      "    correctanswer:\"a:Test to measure the intelligence of a machine\"\n",
      "}\n",
      "\n",
      "7. {\n",
      "    titleofquiz:\"Artificial Intelligence Quiz 7\",\n",
      "    question: \"Which language is commonly used for AI?\",\n",
      "    options: [\"a:Python\",\"b:Java\",\"c:C++\",\"d:All of the above\"],\n",
      "    correctanswer:\"d:All of the above\"\n",
      "}\n",
      "\n",
      "8. {\n",
      "    titleofquiz:\"Artificial Intelligence Quiz 8\",\n",
      "    question: \"What is a neural network?\",\n",
      "    options: [\"a:A computer network\",\"b:Type of AI algorithm\",\"c:Type of computer hardware\",\"d:Type of software\"],\n",
      "    correctanswer:\"b:Type of AI algorithm\"\n",
      "}\n",
      "\n",
      "9. {\n",
      "    titleofquiz:\"Artificial Intelligence Quiz 9\",\n",
      "    question: \"What is Deep Learning?\",\n",
      "    options: [\"a:A type of Machine Learning\",\"b:A programming language\",\"c:A computer hardware\",\"d:A software application\"],\n",
      "    correctanswer:\"a:A type of Machine Learning\"\n",
      "}\n",
      "\n",
      "10. {\n",
      "    titleofquiz:\"Artificial Intelligence Quiz 10\",\n",
      "    question: \"What is the difference between AI and Machine Learning?\",\n",
      "    options: [\"a:AI is a subset of Machine Learning\",\"b:Machine Learning is a subset of AI\",\"c:AI and Machine Learning are the same\",\"d:None of the above\"],\n",
      "    correctanswer:\"b:Machine Learning is a subset of AI\"\n",
      "}\n",
      "\n",
      "11. {\n",
      "    titleofquiz:\"Artificial Intelligence Quiz 11\",\n",
      "    question: \"What is reinforcement learning?\",\n",
      "    options: [\"a:Learning from mistakes\",\"b:Learning from successes\",\"c:Both a & b\",\"d:None of the above\"],\n",
      "    correctanswer:\"c:Both a & b\"\n",
      "}\n",
      "\n",
      "12. {\n",
      "    titleofquiz:\"Artificial Intelligence Quiz 12\",\n",
      "    question: \"What is the concept of Natural Language Processing?\",\n",
      "    options: [\"a:Understanding and interpreting human language\",\"b:Translating human language to machine language\",\"c:Programming computers to process large amounts of natural language data\",\"d:All of the above\"],\n",
      "    correctanswer:\"d:All of the above\"\n",
      "}\n",
      "\n",
      "13. {\n",
      "    titleofquiz:\"Artificial Intelligence Quiz 13\",\n",
      "    question: \"What is supervised learning?\",\n",
      "    options: [\"a:Learning with a teacher\",\"b:Learning with a dataset\",\"c:Learning with labeled data\",\"d:Learning with unlabeled data\"],\n",
      "    correctanswer:\"c:Learning with labeled data\"\n",
      "}\n",
      "\n",
      "14. {\n",
      "    titleofquiz:\"Artificial Intelligence Quiz 14\",\n",
      "    question: \"What is unsupervised learning?\",\n",
      "    options: [\"a:Learning without a teacher\",\"b:Learning without a dataset\",\"c:Learning with labeled data\",\"d:Learning with unlabeled data\"],\n",
      "    correctanswer:\"d:Learning with unlabeled data\"\n",
      "}\n",
      "\n",
      "15. {\n",
      "    titleofquiz:\"Artificial Intelligence Quiz 15\",\n",
      "    question: \"What is a Chatbot?\",\n",
      "    options: [\"a:An AI program that can engage in conversation\",\"b:A type of robot\",\"c:A type of software\",\"d:A type of programming language\"],\n",
      "    correctanswer:\"a:An AI program that can engage in conversation\"\n",
      "}\n",
      "\n",
      "16. {\n",
      "    titleofquiz:\"Artificial Intelligence Quiz 16\",\n",
      "    question: \"What is computer vision?\",\n",
      "    options: [\"a:Ability for a computer to see\",\"b:Ability for a computer to interpret visual data\",\"c:Both a & b\",\"d:None of the above\"],\n",
      "    correctanswer:\"c:Both a & b\"\n",
      "}\n",
      "\n",
      "17. {\n",
      "    titleofquiz:\"Artificial Intelligence Quiz 17\",\n",
      "    question: \"What is a Perceptron?\",\n",
      "    options: [\"a:A type of neuron\",\"b:A type of robot\",\"c:A type of algorithm in machine learning\",\"d:A type of computer\"],\n",
      "    correctanswer:\"c:A type of algorithm in machine learning\"\n",
      "}\n",
      "\n",
      "18. {\n",
      "    titleofquiz:\"Artificial Intelligence Quiz 18\",\n",
      "    question: \"What is a Decision Tree?\",\n",
      "    options: [\"a:A type of data structure\",\"b:A type of machine learning algorithm\",\"c:A type of computer hardware\",\"d:A type of programming language\"],\n",
      "    correctanswer:\"b:A type of machine learning algorithm\"\n",
      "}\n",
      "\n",
      "19. {\n",
      "    titleofquiz:\"Artificial Intelligence Quiz 19\",\n",
      "    question: \"What is the role of a Data Scientist in AI?\",\n",
      "    options: [\"a:Programming AI systems\",\"b:Designing AI systems\",\"c:Analyzing and interpreting complex digital data\",\"d:All of the above\"],\n",
      "    correctanswer:\"d:All of the above\"\n",
      "}\n",
      "\n",
      "20. {\n",
      "    titleofquiz:\"Artificial Intelligence Quiz 20\",\n",
      "    question: \"What is Data Mining?\",\n",
      "    options: [\"a:Extracting valuable information from a large dataset\",\"b:Storing large amounts of data\",\"c:Cleaning large amounts of data\",\"d:None of the above\"],\n",
      "    correctanswer:\"a:Extracting valuable information from a large dataset\"\n",
      "}\n"
     ]
    }
   ],
   "source": [
    "print(typeresponce.content)"
   ]
  },
  {
   "cell_type": "code",
   "execution_count": 121,
   "metadata": {},
   "outputs": [
    {
     "ename": "JSONDecodeError",
     "evalue": "Extra data: line 1 column 2 (char 1)",
     "output_type": "error",
     "traceback": [
      "\u001b[1;31m---------------------------------------------------------------------------\u001b[0m",
      "\u001b[1;31mJSONDecodeError\u001b[0m                           Traceback (most recent call last)",
      "Cell \u001b[1;32mIn[121], line 1\u001b[0m\n\u001b[1;32m----> 1\u001b[0m \u001b[38;5;28mprint\u001b[39m(\u001b[38;5;28mtype\u001b[39m(\u001b[43mjson\u001b[49m\u001b[38;5;241;43m.\u001b[39;49m\u001b[43mloads\u001b[49m\u001b[43m(\u001b[49m\u001b[43mresponce\u001b[49m\u001b[38;5;241;43m.\u001b[39;49m\u001b[43mcontent\u001b[49m\u001b[43m)\u001b[49m))\n",
      "File \u001b[1;32mc:\\Program Files\\Python311\\Lib\\json\\__init__.py:346\u001b[0m, in \u001b[0;36mloads\u001b[1;34m(s, cls, object_hook, parse_float, parse_int, parse_constant, object_pairs_hook, **kw)\u001b[0m\n\u001b[0;32m    341\u001b[0m     s \u001b[38;5;241m=\u001b[39m s\u001b[38;5;241m.\u001b[39mdecode(detect_encoding(s), \u001b[38;5;124m'\u001b[39m\u001b[38;5;124msurrogatepass\u001b[39m\u001b[38;5;124m'\u001b[39m)\n\u001b[0;32m    343\u001b[0m \u001b[38;5;28;01mif\u001b[39;00m (\u001b[38;5;28mcls\u001b[39m \u001b[38;5;129;01mis\u001b[39;00m \u001b[38;5;28;01mNone\u001b[39;00m \u001b[38;5;129;01mand\u001b[39;00m object_hook \u001b[38;5;129;01mis\u001b[39;00m \u001b[38;5;28;01mNone\u001b[39;00m \u001b[38;5;129;01mand\u001b[39;00m\n\u001b[0;32m    344\u001b[0m         parse_int \u001b[38;5;129;01mis\u001b[39;00m \u001b[38;5;28;01mNone\u001b[39;00m \u001b[38;5;129;01mand\u001b[39;00m parse_float \u001b[38;5;129;01mis\u001b[39;00m \u001b[38;5;28;01mNone\u001b[39;00m \u001b[38;5;129;01mand\u001b[39;00m\n\u001b[0;32m    345\u001b[0m         parse_constant \u001b[38;5;129;01mis\u001b[39;00m \u001b[38;5;28;01mNone\u001b[39;00m \u001b[38;5;129;01mand\u001b[39;00m object_pairs_hook \u001b[38;5;129;01mis\u001b[39;00m \u001b[38;5;28;01mNone\u001b[39;00m \u001b[38;5;129;01mand\u001b[39;00m \u001b[38;5;129;01mnot\u001b[39;00m kw):\n\u001b[1;32m--> 346\u001b[0m     \u001b[38;5;28;01mreturn\u001b[39;00m \u001b[43m_default_decoder\u001b[49m\u001b[38;5;241;43m.\u001b[39;49m\u001b[43mdecode\u001b[49m\u001b[43m(\u001b[49m\u001b[43ms\u001b[49m\u001b[43m)\u001b[49m\n\u001b[0;32m    347\u001b[0m \u001b[38;5;28;01mif\u001b[39;00m \u001b[38;5;28mcls\u001b[39m \u001b[38;5;129;01mis\u001b[39;00m \u001b[38;5;28;01mNone\u001b[39;00m:\n\u001b[0;32m    348\u001b[0m     \u001b[38;5;28mcls\u001b[39m \u001b[38;5;241m=\u001b[39m JSONDecoder\n",
      "File \u001b[1;32mc:\\Program Files\\Python311\\Lib\\json\\decoder.py:340\u001b[0m, in \u001b[0;36mJSONDecoder.decode\u001b[1;34m(self, s, _w)\u001b[0m\n\u001b[0;32m    338\u001b[0m end \u001b[38;5;241m=\u001b[39m _w(s, end)\u001b[38;5;241m.\u001b[39mend()\n\u001b[0;32m    339\u001b[0m \u001b[38;5;28;01mif\u001b[39;00m end \u001b[38;5;241m!=\u001b[39m \u001b[38;5;28mlen\u001b[39m(s):\n\u001b[1;32m--> 340\u001b[0m     \u001b[38;5;28;01mraise\u001b[39;00m JSONDecodeError(\u001b[38;5;124m\"\u001b[39m\u001b[38;5;124mExtra data\u001b[39m\u001b[38;5;124m\"\u001b[39m, s, end)\n\u001b[0;32m    341\u001b[0m \u001b[38;5;28;01mreturn\u001b[39;00m obj\n",
      "\u001b[1;31mJSONDecodeError\u001b[0m: Extra data: line 1 column 2 (char 1)"
     ]
    }
   ],
   "source": [
    "print(type(json.load(responce.content)))"
   ]
  },
  {
   "cell_type": "code",
   "execution_count": 117,
   "metadata": {},
   "outputs": [
    {
     "data": {
      "text/plain": [
       "'\"h1. {\\\\n    titleofquiz:\\\\\"Artificial Intelligence Quiz 1\\\\\",\\\\n    question: \\\\\"What is AI?\\\\\",\\\\n    options: [\\\\\"a:Artificial Intelligence\\\\\",\\\\\"b:Applied Intelligence\\\\\",\\\\\"c:Alphabetical Intelligence\\\\\",\\\\\"d:Analytical Intelligence\\\\\"],\\\\n    correctanswer:\\\\\"a:Artificial Intelligence\\\\\"\\\\n}\\\\n\\\\n2. {\\\\n    titleofquiz:\\\\\"Artificial Intelligence Quiz 2\\\\\",\\\\n    question: \\\\\"Who is known as the father of Artificial Intelligence?\\\\\",\\\\n    options: [\\\\\"a:Alan Turing\\\\\",\\\\\"b:John McCarthy\\\\\",\\\\\"c:Elon Musk\\\\\",\\\\\"d:Bill Gates\\\\\"],\\\\n    correctanswer:\\\\\"b:John McCarthy\\\\\"\\\\n}\\\\n\\\\n3. {\\\\n    titleofquiz:\\\\\"Artificial Intelligence Quiz 3\\\\\",\\\\n    question: \\\\\"What are the subfields of AI?\\\\\",\\\\n    options: [\\\\\"a:Machine Learning and Deep Learning\\\\\",\\\\\"b:Robotics and Vision\\\\\",\\\\\"c:Natural Language Processing and Speech Recognition\\\\\",\\\\\"d:All of the above\\\\\"],\\\\n    correctanswer:\\\\\"d:All of the above\\\\\"\\\\n}\\\\n\\\\n4. {\\\\n    titleofquiz:\\\\\"Artificial Intelligence Quiz 4\\\\\",\\\\n    question: \\\\\"What is the goal of AI?\\\\\",\\\\n    options: [\\\\\"a:To Create Expert Systems\\\\\",\\\\\"b:To Implement Human Intelligence in Machines\\\\\",\\\\\"c:Both a & b\\\\\",\\\\\"d:None of the above\\\\\"],\\\\n    correctanswer:\\\\\"c:Both a & b\\\\\"\\\\n}\\\\n\\\\n5. {\\\\n    titleofquiz:\\\\\"Artificial Intelligence Quiz 5\\\\\",\\\\n    question: \\\\\"What is Machine Learning?\\\\\",\\\\n    options: [\\\\\"a:Learning to operate machinery\\\\\",\\\\\"b:Type of AI that allows a machine to learn from experience\\\\\",\\\\\"c:Programming language\\\\\",\\\\\"d:Software application\\\\\"],\\\\n    correctanswer:\\\\\"b:Type of AI that allows a machine to learn from experience\\\\\"\\\\n}\\\\n\\\\n6. {\\\\n    titleofquiz:\\\\\"Artificial Intelligence Quiz 6\\\\\",\\\\n    question: \\\\\"What is the Turing test?\\\\\",\\\\n    options: [\\\\\"a:Test to measure the intelligence of a machine\\\\\",\\\\\"b:Test to measure the speed of a machine\\\\\",\\\\\"c:Test to measure the power of a machine\\\\\",\\\\\"d:Test to measure the accuracy of a machine\\\\\"],\\\\n    correctanswer:\\\\\"a:Test to measure the intelligence of a machine\\\\\"\\\\n}\\\\n\\\\n7. {\\\\n    titleofquiz:\\\\\"Artificial Intelligence Quiz 7\\\\\",\\\\n    question: \\\\\"Which language is commonly used for AI?\\\\\",\\\\n    options: [\\\\\"a:Python\\\\\",\\\\\"b:Java\\\\\",\\\\\"c:C++\\\\\",\\\\\"d:All of the above\\\\\"],\\\\n    correctanswer:\\\\\"d:All of the above\\\\\"\\\\n}\\\\n\\\\n8. {\\\\n    titleofquiz:\\\\\"Artificial Intelligence Quiz 8\\\\\",\\\\n    question: \\\\\"What is a neural network?\\\\\",\\\\n    options: [\\\\\"a:A computer network\\\\\",\\\\\"b:Type of AI algorithm\\\\\",\\\\\"c:Type of computer hardware\\\\\",\\\\\"d:Type of software\\\\\"],\\\\n    correctanswer:\\\\\"b:Type of AI algorithm\\\\\"\\\\n}\\\\n\\\\n9. {\\\\n    titleofquiz:\\\\\"Artificial Intelligence Quiz 9\\\\\",\\\\n    question: \\\\\"What is Deep Learning?\\\\\",\\\\n    options: [\\\\\"a:A type of Machine Learning\\\\\",\\\\\"b:A programming language\\\\\",\\\\\"c:A computer hardware\\\\\",\\\\\"d:A software application\\\\\"],\\\\n    correctanswer:\\\\\"a:A type of Machine Learning\\\\\"\\\\n}\\\\n\\\\n10. {\\\\n    titleofquiz:\\\\\"Artificial Intelligence Quiz 10\\\\\",\\\\n    question: \\\\\"What is the difference between AI and Machine Learning?\\\\\",\\\\n    options: [\\\\\"a:AI is a subset of Machine Learning\\\\\",\\\\\"b:Machine Learning is a subset of AI\\\\\",\\\\\"c:AI and Machine Learning are the same\\\\\",\\\\\"d:None of the above\\\\\"],\\\\n    correctanswer:\\\\\"b:Machine Learning is a subset of AI\\\\\"\\\\n}\\\\n\\\\n11. {\\\\n    titleofquiz:\\\\\"Artificial Intelligence Quiz 11\\\\\",\\\\n    question: \\\\\"What is reinforcement learning?\\\\\",\\\\n    options: [\\\\\"a:Learning from mistakes\\\\\",\\\\\"b:Learning from successes\\\\\",\\\\\"c:Both a & b\\\\\",\\\\\"d:None of the above\\\\\"],\\\\n    correctanswer:\\\\\"c:Both a & b\\\\\"\\\\n}\\\\n\\\\n12. {\\\\n    titleofquiz:\\\\\"Artificial Intelligence Quiz 12\\\\\",\\\\n    question: \\\\\"What is the concept of Natural Language Processing?\\\\\",\\\\n    options: [\\\\\"a:Understanding and interpreting human language\\\\\",\\\\\"b:Translating human language to machine language\\\\\",\\\\\"c:Programming computers to process large amounts of natural language data\\\\\",\\\\\"d:All of the above\\\\\"],\\\\n    correctanswer:\\\\\"d:All of the above\\\\\"\\\\n}\\\\n\\\\n13. {\\\\n    titleofquiz:\\\\\"Artificial Intelligence Quiz 13\\\\\",\\\\n    question: \\\\\"What is supervised learning?\\\\\",\\\\n    options: [\\\\\"a:Learning with a teacher\\\\\",\\\\\"b:Learning with a dataset\\\\\",\\\\\"c:Learning with labeled data\\\\\",\\\\\"d:Learning with unlabeled data\\\\\"],\\\\n    correctanswer:\\\\\"c:Learning with labeled data\\\\\"\\\\n}\\\\n\\\\n14. {\\\\n    titleofquiz:\\\\\"Artificial Intelligence Quiz 14\\\\\",\\\\n    question: \\\\\"What is unsupervised learning?\\\\\",\\\\n    options: [\\\\\"a:Learning without a teacher\\\\\",\\\\\"b:Learning without a dataset\\\\\",\\\\\"c:Learning with labeled data\\\\\",\\\\\"d:Learning with unlabeled data\\\\\"],\\\\n    correctanswer:\\\\\"d:Learning with unlabeled data\\\\\"\\\\n}\\\\n\\\\n15. {\\\\n    titleofquiz:\\\\\"Artificial Intelligence Quiz 15\\\\\",\\\\n    question: \\\\\"What is a Chatbot?\\\\\",\\\\n    options: [\\\\\"a:An AI program that can engage in conversation\\\\\",\\\\\"b:A type of robot\\\\\",\\\\\"c:A type of software\\\\\",\\\\\"d:A type of programming language\\\\\"],\\\\n    correctanswer:\\\\\"a:An AI program that can engage in conversation\\\\\"\\\\n}\\\\n\\\\n16. {\\\\n    titleofquiz:\\\\\"Artificial Intelligence Quiz 16\\\\\",\\\\n    question: \\\\\"What is computer vision?\\\\\",\\\\n    options: [\\\\\"a:Ability for a computer to see\\\\\",\\\\\"b:Ability for a computer to interpret visual data\\\\\",\\\\\"c:Both a & b\\\\\",\\\\\"d:None of the above\\\\\"],\\\\n    correctanswer:\\\\\"c:Both a & b\\\\\"\\\\n}\\\\n\\\\n17. {\\\\n    titleofquiz:\\\\\"Artificial Intelligence Quiz 17\\\\\",\\\\n    question: \\\\\"What is a Perceptron?\\\\\",\\\\n    options: [\\\\\"a:A type of neuron\\\\\",\\\\\"b:A type of robot\\\\\",\\\\\"c:A type of algorithm in machine learning\\\\\",\\\\\"d:A type of computer\\\\\"],\\\\n    correctanswer:\\\\\"c:A type of algorithm in machine learning\\\\\"\\\\n}\\\\n\\\\n18. {\\\\n    titleofquiz:\\\\\"Artificial Intelligence Quiz 18\\\\\",\\\\n    question: \\\\\"What is a Decision Tree?\\\\\",\\\\n    options: [\\\\\"a:A type of data structure\\\\\",\\\\\"b:A type of machine learning algorithm\\\\\",\\\\\"c:A type of computer hardware\\\\\",\\\\\"d:A type of programming language\\\\\"],\\\\n    correctanswer:\\\\\"b:A type of machine learning algorithm\\\\\"\\\\n}\\\\n\\\\n19. {\\\\n    titleofquiz:\\\\\"Artificial Intelligence Quiz 19\\\\\",\\\\n    question: \\\\\"What is the role of a Data Scientist in AI?\\\\\",\\\\n    options: [\\\\\"a:Programming AI systems\\\\\",\\\\\"b:Designing AI systems\\\\\",\\\\\"c:Analyzing and interpreting complex digital data\\\\\",\\\\\"d:All of the above\\\\\"],\\\\n    correctanswer:\\\\\"d:All of the above\\\\\"\\\\n}\\\\n\\\\n20. {\\\\n    titleofquiz:\\\\\"Artificial Intelligence Quiz 20\\\\\",\\\\n    question: \\\\\"What is Data Mining?\\\\\",\\\\n    options: [\\\\\"a:Extracting valuable information from a large dataset\\\\\",\\\\\"b:Storing large amounts of data\\\\\",\\\\\"c:Cleaning large amounts of data\\\\\",\\\\\"d:None of the above\\\\\"],\\\\n    correctanswer:\\\\\"a:Extracting valuable information from a large dataset\\\\\"\\\\n}\"'"
      ]
     },
     "execution_count": 117,
     "metadata": {},
     "output_type": "execute_result"
    }
   ],
   "source": [
    "a"
   ]
  },
  {
   "cell_type": "code",
   "execution_count": 102,
   "metadata": {},
   "outputs": [
    {
     "name": "stdout",
     "output_type": "stream",
     "text": [
      "<class 'str'>\n"
     ]
    }
   ],
   "source": [
    "print(type(a))"
   ]
  },
  {
   "cell_type": "code",
   "execution_count": 85,
   "metadata": {},
   "outputs": [],
   "source": [
    "a=responce.content"
   ]
  },
  {
   "cell_type": "code",
   "execution_count": 68,
   "metadata": {},
   "outputs": [
    {
     "data": {
      "text/plain": [
       "'    question: Which of the following is considered a subfield of artificial intelligence?'"
      ]
     },
     "execution_count": 68,
     "metadata": {},
     "output_type": "execute_result"
    }
   ],
   "source": [
    "a.split('\\n')[6]"
   ]
  },
  {
   "cell_type": "code",
   "execution_count": 103,
   "metadata": {},
   "outputs": [],
   "source": [
    "data = {}\n",
    "for line in a.split('\\n'):\n",
    "    if ':' in line:\n",
    "        key, value = line.split(':', 1)\n",
    "        key = key.strip()\n",
    "        value = value.strip()\n",
    "        if value.startswith('[') and value.endswith(']'):\n",
    "            value = json.loads(value)\n",
    "        data[key] = value"
   ]
  },
  {
   "cell_type": "code",
   "execution_count": 108,
   "metadata": {},
   "outputs": [
    {
     "name": "stdout",
     "output_type": "stream",
     "text": [
      "{'\"1. {\\\\n    titleofquiz': '\\\\\"Artificial Intelligence Quiz 1\\\\\",\\\\n    question: \\\\\"What is AI?\\\\\",\\\\n    options: [\\\\\"a:Artificial Intelligence\\\\\",\\\\\"b:Applied Intelligence\\\\\",\\\\\"c:Alphabetical Intelligence\\\\\",\\\\\"d:Analytical Intelligence\\\\\"],\\\\n    correctanswer:\\\\\"a:Artificial Intelligence\\\\\"\\\\n}\\\\n\\\\n2. {\\\\n    titleofquiz:\\\\\"Artificial Intelligence Quiz 2\\\\\",\\\\n    question: \\\\\"Who is known as the father of Artificial Intelligence?\\\\\",\\\\n    options: [\\\\\"a:Alan Turing\\\\\",\\\\\"b:John McCarthy\\\\\",\\\\\"c:Elon Musk\\\\\",\\\\\"d:Bill Gates\\\\\"],\\\\n    correctanswer:\\\\\"b:John McCarthy\\\\\"\\\\n}\\\\n\\\\n3. {\\\\n    titleofquiz:\\\\\"Artificial Intelligence Quiz 3\\\\\",\\\\n    question: \\\\\"What are the subfields of AI?\\\\\",\\\\n    options: [\\\\\"a:Machine Learning and Deep Learning\\\\\",\\\\\"b:Robotics and Vision\\\\\",\\\\\"c:Natural Language Processing and Speech Recognition\\\\\",\\\\\"d:All of the above\\\\\"],\\\\n    correctanswer:\\\\\"d:All of the above\\\\\"\\\\n}\\\\n\\\\n4. {\\\\n    titleofquiz:\\\\\"Artificial Intelligence Quiz 4\\\\\",\\\\n    question: \\\\\"What is the goal of AI?\\\\\",\\\\n    options: [\\\\\"a:To Create Expert Systems\\\\\",\\\\\"b:To Implement Human Intelligence in Machines\\\\\",\\\\\"c:Both a & b\\\\\",\\\\\"d:None of the above\\\\\"],\\\\n    correctanswer:\\\\\"c:Both a & b\\\\\"\\\\n}\\\\n\\\\n5. {\\\\n    titleofquiz:\\\\\"Artificial Intelligence Quiz 5\\\\\",\\\\n    question: \\\\\"What is Machine Learning?\\\\\",\\\\n    options: [\\\\\"a:Learning to operate machinery\\\\\",\\\\\"b:Type of AI that allows a machine to learn from experience\\\\\",\\\\\"c:Programming language\\\\\",\\\\\"d:Software application\\\\\"],\\\\n    correctanswer:\\\\\"b:Type of AI that allows a machine to learn from experience\\\\\"\\\\n}\\\\n\\\\n6. {\\\\n    titleofquiz:\\\\\"Artificial Intelligence Quiz 6\\\\\",\\\\n    question: \\\\\"What is the Turing test?\\\\\",\\\\n    options: [\\\\\"a:Test to measure the intelligence of a machine\\\\\",\\\\\"b:Test to measure the speed of a machine\\\\\",\\\\\"c:Test to measure the power of a machine\\\\\",\\\\\"d:Test to measure the accuracy of a machine\\\\\"],\\\\n    correctanswer:\\\\\"a:Test to measure the intelligence of a machine\\\\\"\\\\n}\\\\n\\\\n7. {\\\\n    titleofquiz:\\\\\"Artificial Intelligence Quiz 7\\\\\",\\\\n    question: \\\\\"Which language is commonly used for AI?\\\\\",\\\\n    options: [\\\\\"a:Python\\\\\",\\\\\"b:Java\\\\\",\\\\\"c:C++\\\\\",\\\\\"d:All of the above\\\\\"],\\\\n    correctanswer:\\\\\"d:All of the above\\\\\"\\\\n}\\\\n\\\\n8. {\\\\n    titleofquiz:\\\\\"Artificial Intelligence Quiz 8\\\\\",\\\\n    question: \\\\\"What is a neural network?\\\\\",\\\\n    options: [\\\\\"a:A computer network\\\\\",\\\\\"b:Type of AI algorithm\\\\\",\\\\\"c:Type of computer hardware\\\\\",\\\\\"d:Type of software\\\\\"],\\\\n    correctanswer:\\\\\"b:Type of AI algorithm\\\\\"\\\\n}\\\\n\\\\n9. {\\\\n    titleofquiz:\\\\\"Artificial Intelligence Quiz 9\\\\\",\\\\n    question: \\\\\"What is Deep Learning?\\\\\",\\\\n    options: [\\\\\"a:A type of Machine Learning\\\\\",\\\\\"b:A programming language\\\\\",\\\\\"c:A computer hardware\\\\\",\\\\\"d:A software application\\\\\"],\\\\n    correctanswer:\\\\\"a:A type of Machine Learning\\\\\"\\\\n}\\\\n\\\\n10. {\\\\n    titleofquiz:\\\\\"Artificial Intelligence Quiz 10\\\\\",\\\\n    question: \\\\\"What is the difference between AI and Machine Learning?\\\\\",\\\\n    options: [\\\\\"a:AI is a subset of Machine Learning\\\\\",\\\\\"b:Machine Learning is a subset of AI\\\\\",\\\\\"c:AI and Machine Learning are the same\\\\\",\\\\\"d:None of the above\\\\\"],\\\\n    correctanswer:\\\\\"b:Machine Learning is a subset of AI\\\\\"\\\\n}\\\\n\\\\n11. {\\\\n    titleofquiz:\\\\\"Artificial Intelligence Quiz 11\\\\\",\\\\n    question: \\\\\"What is reinforcement learning?\\\\\",\\\\n    options: [\\\\\"a:Learning from mistakes\\\\\",\\\\\"b:Learning from successes\\\\\",\\\\\"c:Both a & b\\\\\",\\\\\"d:None of the above\\\\\"],\\\\n    correctanswer:\\\\\"c:Both a & b\\\\\"\\\\n}\\\\n\\\\n12. {\\\\n    titleofquiz:\\\\\"Artificial Intelligence Quiz 12\\\\\",\\\\n    question: \\\\\"What is the concept of Natural Language Processing?\\\\\",\\\\n    options: [\\\\\"a:Understanding and interpreting human language\\\\\",\\\\\"b:Translating human language to machine language\\\\\",\\\\\"c:Programming computers to process large amounts of natural language data\\\\\",\\\\\"d:All of the above\\\\\"],\\\\n    correctanswer:\\\\\"d:All of the above\\\\\"\\\\n}\\\\n\\\\n13. {\\\\n    titleofquiz:\\\\\"Artificial Intelligence Quiz 13\\\\\",\\\\n    question: \\\\\"What is supervised learning?\\\\\",\\\\n    options: [\\\\\"a:Learning with a teacher\\\\\",\\\\\"b:Learning with a dataset\\\\\",\\\\\"c:Learning with labeled data\\\\\",\\\\\"d:Learning with unlabeled data\\\\\"],\\\\n    correctanswer:\\\\\"c:Learning with labeled data\\\\\"\\\\n}\\\\n\\\\n14. {\\\\n    titleofquiz:\\\\\"Artificial Intelligence Quiz 14\\\\\",\\\\n    question: \\\\\"What is unsupervised learning?\\\\\",\\\\n    options: [\\\\\"a:Learning without a teacher\\\\\",\\\\\"b:Learning without a dataset\\\\\",\\\\\"c:Learning with labeled data\\\\\",\\\\\"d:Learning with unlabeled data\\\\\"],\\\\n    correctanswer:\\\\\"d:Learning with unlabeled data\\\\\"\\\\n}\\\\n\\\\n15. {\\\\n    titleofquiz:\\\\\"Artificial Intelligence Quiz 15\\\\\",\\\\n    question: \\\\\"What is a Chatbot?\\\\\",\\\\n    options: [\\\\\"a:An AI program that can engage in conversation\\\\\",\\\\\"b:A type of robot\\\\\",\\\\\"c:A type of software\\\\\",\\\\\"d:A type of programming language\\\\\"],\\\\n    correctanswer:\\\\\"a:An AI program that can engage in conversation\\\\\"\\\\n}\\\\n\\\\n16. {\\\\n    titleofquiz:\\\\\"Artificial Intelligence Quiz 16\\\\\",\\\\n    question: \\\\\"What is computer vision?\\\\\",\\\\n    options: [\\\\\"a:Ability for a computer to see\\\\\",\\\\\"b:Ability for a computer to interpret visual data\\\\\",\\\\\"c:Both a & b\\\\\",\\\\\"d:None of the above\\\\\"],\\\\n    correctanswer:\\\\\"c:Both a & b\\\\\"\\\\n}\\\\n\\\\n17. {\\\\n    titleofquiz:\\\\\"Artificial Intelligence Quiz 17\\\\\",\\\\n    question: \\\\\"What is a Perceptron?\\\\\",\\\\n    options: [\\\\\"a:A type of neuron\\\\\",\\\\\"b:A type of robot\\\\\",\\\\\"c:A type of algorithm in machine learning\\\\\",\\\\\"d:A type of computer\\\\\"],\\\\n    correctanswer:\\\\\"c:A type of algorithm in machine learning\\\\\"\\\\n}\\\\n\\\\n18. {\\\\n    titleofquiz:\\\\\"Artificial Intelligence Quiz 18\\\\\",\\\\n    question: \\\\\"What is a Decision Tree?\\\\\",\\\\n    options: [\\\\\"a:A type of data structure\\\\\",\\\\\"b:A type of machine learning algorithm\\\\\",\\\\\"c:A type of computer hardware\\\\\",\\\\\"d:A type of programming language\\\\\"],\\\\n    correctanswer:\\\\\"b:A type of machine learning algorithm\\\\\"\\\\n}\\\\n\\\\n19. {\\\\n    titleofquiz:\\\\\"Artificial Intelligence Quiz 19\\\\\",\\\\n    question: \\\\\"What is the role of a Data Scientist in AI?\\\\\",\\\\n    options: [\\\\\"a:Programming AI systems\\\\\",\\\\\"b:Designing AI systems\\\\\",\\\\\"c:Analyzing and interpreting complex digital data\\\\\",\\\\\"d:All of the above\\\\\"],\\\\n    correctanswer:\\\\\"d:All of the above\\\\\"\\\\n}\\\\n\\\\n20. {\\\\n    titleofquiz:\\\\\"Artificial Intelligence Quiz 20\\\\\",\\\\n    question: \\\\\"What is Data Mining?\\\\\",\\\\n    options: [\\\\\"a:Extracting valuable information from a large dataset\\\\\",\\\\\"b:Storing large amounts of data\\\\\",\\\\\"c:Cleaning large amounts of data\\\\\",\\\\\"d:None of the above\\\\\"],\\\\n    correctanswer:\\\\\"a:Extracting valuable information from a large dataset\\\\\"\\\\n}\"'}\n"
     ]
    }
   ],
   "source": [
    "print(data)"
   ]
  },
  {
   "cell_type": "markdown",
   "metadata": {},
   "source": [
    "{'\"1. {\\\\n    titleofquiz': '\\\\\"Artificial Intelligence Quiz 1\\\\\",\\\\n    question: \\\\\"What is AI?\\\\\",\\\\n    options: [\\\\\"a:Artificial Intelligence\\\\\",\\\\\"b:Applied Intelligence\\\\\",\\\\\"c:Alphabetical Intelligence\\\\\",\\\\\"d:Analytical Intelligence\\\\\"],\\\\n    correctanswer:\\\\\"a:Artificial Intelligence\\\\\"\\\\n}\\\\n\\\\n2. {\\\\n    titleofquiz:\\\\\"Artificial Intelligence Quiz 2\\\\\",\\\\n    question: \\\\\"Who is known as the father of Artificial Intelligence?\\\\\",\\\\n    options: [\\\\\"a:Alan Turing\\\\\",\\\\\"b:John McCarthy\\\\\",\\\\\"c:Elon Musk\\\\\",\\\\\"d:Bill Gates\\\\\"],\\\\n    correctanswer:\\\\\"b:John McCarthy\\\\\"\\\\n}\\\\n\\\\n3. {\\\\n    titleofquiz:\\\\\"Artificial Intelligence Quiz 3\\\\\",\\\\n    question: \\\\\"What are the subfields of AI?\\\\\",\\\\n    options: [\\\\\"a:Machine Learning and Deep Learning\\\\\",\\\\\"b:Robotics and Vision\\\\\",\\\\\"c:Natural Language Processing and Speech Recognition\\\\\",\\\\\"d:All of the above\\\\\"],\\\\n    correctanswer:\\\\\"d:All of the above\\\\\"\\\\n}\\\\n\\\\n4. {\\\\n    titleofquiz:\\\\\"Artificial Intelligence Quiz 4\\\\\",\\\\n    question: \\\\\"What is the goal of AI?\\\\\",\\\\n    options: [\\\\\"a:To Create Expert Systems\\\\\",\\\\\"b:To Implement Human Intelligence in Machines\\\\\",\\\\\"c:Both a & b\\\\\",\\\\\"d:None of the above\\\\\"],\\\\n    correctanswer:\\\\\"c:Both a & b\\\\\"\\\\n}\\\\n\\\\n5. {\\\\n    titleofquiz:\\\\\"Artificial Intelligence Quiz 5\\\\\",\\\\n    question: \\\\\"What is Machine Learning?\\\\\",\\\\n    options: [\\\\\"a:Learning to operate machinery\\\\\",\\\\\"b:Type of AI that allows a machine to learn from experience\\\\\",\\\\\"c:Programming language\\\\\",\\\\\"d:Software application\\\\\"],\\\\n    correctanswer:\\\\\"b:Type of AI that allows a machine to learn from experience\\\\\"\\\\n}\\\\n\\\\n6. {\\\\n    titleofquiz:\\\\\"Artificial Intelligence Quiz 6\\\\\",\\\\n    question: \\\\\"What is the Turing test?\\\\\",\\\\n    options: [\\\\\"a:Test to measure the intelligence of a machine\\\\\",\\\\\"b:Test to measure the speed of a machine\\\\\",\\\\\"c:Test to measure the power of a machine\\\\\",\\\\\"d:Test to measure the accuracy of a machine\\\\\"],\\\\n    correctanswer:\\\\\"a:Test to measure the intelligence of a machine\\\\\"\\\\n}\\\\n\\\\n7. {\\\\n    titleofquiz:\\\\\"Artificial Intelligence Quiz 7\\\\\",\\\\n    question: \\\\\"Which language is commonly used for AI?\\\\\",\\\\n    options: [\\\\\"a:Python\\\\\",\\\\\"b:Java\\\\\",\\\\\"c:C++\\\\\",\\\\\"d:All of the above\\\\\"],\\\\n    correctanswer:\\\\\"d:All of the above\\\\\"\\\\n}\\\\n\\\\n8. {\\\\n    titleofquiz:\\\\\"Artificial Intelligence Quiz 8\\\\\",\\\\n    question: \\\\\"What is a neural network?\\\\\",\\\\n    options: [\\\\\"a:A computer network\\\\\",\\\\\"b:Type of AI algorithm\\\\\",\\\\\"c:Type of computer hardware\\\\\",\\\\\"d:Type of software\\\\\"],\\\\n    correctanswer:\\\\\"b:Type of AI algorithm\\\\\"\\\\n}\\\\n\\\\n9. {\\\\n    titleofquiz:\\\\\"Artificial Intelligence Quiz 9\\\\\",\\\\n    question: \\\\\"What is Deep Learning?\\\\\",\\\\n    options: [\\\\\"a:A type of Machine Learning\\\\\",\\\\\"b:A programming language\\\\\",\\\\\"c:A computer hardware\\\\\",\\\\\"d:A software application\\\\\"],\\\\n    correctanswer:\\\\\"a:A type of Machine Learning\\\\\"\\\\n}\\\\n\\\\n10. {\\\\n    titleofquiz:\\\\\"Artificial Intelligence Quiz 10\\\\\",\\\\n    question: \\\\\"What is the difference between AI and Machine Learning?\\\\\",\\\\n    options: [\\\\\"a:AI is a subset of Machine Learning\\\\\",\\\\\"b:Machine Learning is a subset of AI\\\\\",\\\\\"c:AI and Machine Learning are the same\\\\\",\\\\\"d:None of the above\\\\\"],\\\\n    correctanswer:\\\\\"b:Machine Learning is a subset of AI\\\\\"\\\\n}\\\\n\\\\n11. {\\\\n    titleofquiz:\\\\\"Artificial Intelligence Quiz 11\\\\\",\\\\n    question: \\\\\"What is reinforcement learning?\\\\\",\\\\n    options: [\\\\\"a:Learning from mistakes\\\\\",\\\\\"b:Learning from successes\\\\\",\\\\\"c:Both a & b\\\\\",\\\\\"d:None of the above\\\\\"],\\\\n    correctanswer:\\\\\"c:Both a & b\\\\\"\\\\n}\\\\n\\\\n12. {\\\\n    titleofquiz:\\\\\"Artificial Intelligence Quiz 12\\\\\",\\\\n    question: \\\\\"What is the concept of Natural Language Processing?\\\\\",\\\\n    options: [\\\\\"a:Understanding and interpreting human language\\\\\",\\\\\"b:Translating human language to machine language\\\\\",\\\\\"c:Programming computers to process large amounts of natural language data\\\\\",\\\\\"d:All of the above\\\\\"],\\\\n    correctanswer:\\\\\"d:All of the above\\\\\"\\\\n}\\\\n\\\\n13. {\\\\n    titleofquiz:\\\\\"Artificial Intelligence Quiz 13\\\\\",\\\\n    question: \\\\\"What is supervised learning?\\\\\",\\\\n    options: [\\\\\"a:Learning with a teacher\\\\\",\\\\\"b:Learning with a dataset\\\\\",\\\\\"c:Learning with labeled data\\\\\",\\\\\"d:Learning with unlabeled data\\\\\"],\\\\n    correctanswer:\\\\\"c:Learning with labeled data\\\\\"\\\\n}\\\\n\\\\n14. {\\\\n    titleofquiz:\\\\\"Artificial Intelligence Quiz 14\\\\\",\\\\n    question: \\\\\"What is unsupervised learning?\\\\\",\\\\n    options: [\\\\\"a:Learning without a teacher\\\\\",\\\\\"b:Learning without a dataset\\\\\",\\\\\"c:Learning with labeled data\\\\\",\\\\\"d:Learning with unlabeled data\\\\\"],\\\\n    correctanswer:\\\\\"d:Learning with unlabeled data\\\\\"\\\\n}\\\\n\\\\n15. {\\\\n    titleofquiz:\\\\\"Artificial Intelligence Quiz 15\\\\\",\\\\n    question: \\\\\"What is a Chatbot?\\\\\",\\\\n    options: [\\\\\"a:An AI program that can engage in conversation\\\\\",\\\\\"b:A type of robot\\\\\",\\\\\"c:A type of software\\\\\",\\\\\"d:A type of programming language\\\\\"],\\\\n    correctanswer:\\\\\"a:An AI program that can engage in conversation\\\\\"\\\\n}\\\\n\\\\n16. {\\\\n    titleofquiz:\\\\\"Artificial Intelligence Quiz 16\\\\\",\\\\n    question: \\\\\"What is computer vision?\\\\\",\\\\n    options: [\\\\\"a:Ability for a computer to see\\\\\",\\\\\"b:Ability for a computer to interpret visual data\\\\\",\\\\\"c:Both a & b\\\\\",\\\\\"d:None of the above\\\\\"],\\\\n    correctanswer:\\\\\"c:Both a & b\\\\\"\\\\n}\\\\n\\\\n17. {\\\\n    titleofquiz:\\\\\"Artificial Intelligence Quiz 17\\\\\",\\\\n    question: \\\\\"What is a Perceptron?\\\\\",\\\\n    options: [\\\\\"a:A type of neuron\\\\\",\\\\\"b:A type of robot\\\\\",\\\\\"c:A type of algorithm in machine learning\\\\\",\\\\\"d:A type of computer\\\\\"],\\\\n    correctanswer:\\\\\"c:A type of algorithm in machine learning\\\\\"\\\\n}\\\\n\\\\n18. {\\\\n    titleofquiz:\\\\\"Artificial Intelligence Quiz 18\\\\\",\\\\n    question: \\\\\"What is a Decision Tree?\\\\\",\\\\n    options: [\\\\\"a:A type of data structure\\\\\",\\\\\"b:A type of machine learning algorithm\\\\\",\\\\\"c:A type of computer hardware\\\\\",\\\\\"d:A type of programming language\\\\\"],\\\\n    correctanswer:\\\\\"b:A type of machine learning algorithm\\\\\"\\\\n}\\\\n\\\\n19. {\\\\n    titleofquiz:\\\\\"Artificial Intelligence Quiz 19\\\\\",\\\\n    question: \\\\\"What is the role of a Data Scientist in AI?\\\\\",\\\\n    options: [\\\\\"a:Programming AI systems\\\\\",\\\\\"b:Designing AI systems\\\\\",\\\\\"c:Analyzing and interpreting complex digital data\\\\\",\\\\\"d:All of the above\\\\\"],\\\\n    correctanswer:\\\\\"d:All of the above\\\\\"\\\\n}\\\\n\\\\n20. {\\\\n    titleofquiz:\\\\\"Artificial Intelligence Quiz 20\\\\\",\\\\n    question: \\\\\"What is Data Mining?\\\\\",\\\\n    options: [\\\\\"a:Extracting valuable information from a large dataset\\\\\",\\\\\"b:Storing large amounts of data\\\\\",\\\\\"c:Cleaning large amounts of data\\\\\",\\\\\"d:None of the above\\\\\"],\\\\n    correctanswer:\\\\\"a:Extracting valuable information from a large dataset\\\\\"\\\\n}\"'}\n"
   ]
  },
  {
   "cell_type": "code",
   "execution_count": 32,
   "metadata": {},
   "outputs": [
    {
     "name": "stdout",
     "output_type": "stream",
     "text": [
      "** What is the goal of artificial intelligence (AI)?\n",
      "** Which programming language is commonly used for AI development?\n",
      "** What is the Turing Test?\n",
      "** What is machine learning?\n",
      "** What is the concept of neural networks in AI?\n",
      "** Which AI technique involves training a model to perform a specific task by learning from examples?\n",
      "** What is the primary purpose of natural language processing (NLP) in AI?\n",
      "** Which AI application is used to recommend products or movies based on a user's past preferences?\n",
      "** What is the purpose of computer vision in AI?\n",
      "** What is the concept of reinforcement learning in AI?\n"
     ]
    }
   ],
   "source": [
    "\n",
    "for i in range(10):\n",
    "    print(data[f\"{i+1}. **Question {i+1}\"])"
   ]
  },
  {
   "cell_type": "code",
   "execution_count": null,
   "metadata": {},
   "outputs": [],
   "source": []
  }
 ],
 "metadata": {
  "kernelspec": {
   "display_name": "Python 3",
   "language": "python",
   "name": "python3"
  },
  "language_info": {
   "codemirror_mode": {
    "name": "ipython",
    "version": 3
   },
   "file_extension": ".py",
   "mimetype": "text/x-python",
   "name": "python",
   "nbconvert_exporter": "python",
   "pygments_lexer": "ipython3",
   "version": "3.11.8"
  }
 },
 "nbformat": 4,
 "nbformat_minor": 2
}
